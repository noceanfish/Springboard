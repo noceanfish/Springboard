{
 "cells": [
  {
   "cell_type": "markdown",
   "metadata": {},
   "source": [
    "---index continued from \"sa_data_wrangling\" <br>\n",
    "\n",
    "7.2 [DL classifiers](#classifier_dl)\n",
    "* [LSTM classifier with GloVe embedding](#dl_glove)\n",
    "* [LSTM classifier with ELMo embedding](#dl_elmo)\n",
    "* [ULFit classifier](#dl_ufit)\n",
    "* [FinBERT](#finbert)"
   ]
  },
  {
   "cell_type": "markdown",
   "metadata": {},
   "source": [
    "<a id='classifier_dl'></a>\n",
    "### 7.2 DL Classifier\n",
    "\n",
    "[back to table of contents](#toc)"
   ]
  },
  {
   "cell_type": "markdown",
   "metadata": {},
   "source": [
    "## load datatset from saved file\n",
    "\n",
    "apply different algorithms to preprocessed embeddings<br>\n",
    "* bow <br>\n",
    "[X_train_vec_bow_md, X_test_vec_bow_md]<br>\n",
    "[X_train_vec_bi_md, X_test_vec_bi_md]<br>\n",
    "[X_train_vec_tri_md, X_test_vec_tri_md]<br>\n",
    "[X_train_vec_bow_pb, X_test_vec_bow_pb]<br>\n",
    "[X_train_vec_bi_pb, X_test_vec_bi_pb]<br>\n",
    "[X_train_vec_tri_pb, X_test_vec_tri_pb] <br>\n",
    "* tfidf <br>\n",
    "[X_train_vec_tfidf_md, X_test_vec_tfidf_md]<br>\n",
    "[X_train_vec_bi_tfidf_md, X_test_vec_bi_tfidf_md]<br>\n",
    "[X_train_vec_tfidf_pb, X_test_vec_tfidf_pb]<br>\n",
    "[X_train_vec_bi_tfidf_pb, X_test_vec_bi_tfidf_pb] <br>\n",
    "* w2v <br>\n",
    "[X_train_w2v_features_md_array, X_test_w2v_features_md_array]<br>\n",
    "[X_train_w2v_features_pb_array, X_test_w2v_features_pb_array] <br>\n",
    "* glove <br>\n",
    "[X_train_glove_features_md_array, X_test_glove_features_md_array]<br>\n",
    "[X_train_glove_features_pb_array, X_test_glove_features_pb_array] <br>\n",
    "* elmo <br>\n",
    "[X_train_vec_elmo_md, X_test_vec_elmo_md]<br>\n",
    "[X_train_vec_elmo_pb, X_test_vec_elmo_pb] <br>"
   ]
  },
  {
   "cell_type": "code",
   "execution_count": 1,
   "metadata": {},
   "outputs": [],
   "source": [
    "import numpy as np\n",
    "import pandas as pd\n",
    "import matplotlib.pyplot as plt\n",
    "from datetime import datetime\n",
    "import re\n",
    "from bs4 import BeautifulSoup\n",
    "from nltk.tokenize import WordPunctTokenizer\n",
    "import os\n",
    "\n",
    "%matplotlib inline"
   ]
  },
  {
   "cell_type": "code",
   "execution_count": 2,
   "metadata": {},
   "outputs": [
    {
     "data": {
      "text/plain": [
       "'1.15.0'"
      ]
     },
     "execution_count": 2,
     "metadata": {},
     "output_type": "execute_result"
    }
   ],
   "source": [
    "import tensorflow as tf\n",
    "import tensorflow_hub as hub\n",
    "import spacy\n",
    "import pickle\n",
    "import seaborn as sns\n",
    "\n",
    "tf.__version__"
   ]
  },
  {
   "cell_type": "code",
   "execution_count": 3,
   "metadata": {},
   "outputs": [],
   "source": [
    "from sklearn.model_selection import train_test_split\n",
    "from sklearn.feature_extraction.text import CountVectorizer, TfidfVectorizer\n",
    "from gensim.models import word2vec\n",
    "import nltk\n",
    "from sklearn.manifold import TSNE"
   ]
  },
  {
   "cell_type": "code",
   "execution_count": 4,
   "metadata": {},
   "outputs": [],
   "source": [
    "def plot_roc(result_table):\n",
    "    fig = plt.figure(figsize=(8,6))\n",
    "\n",
    "    for name, values in result_table.items():\n",
    "        fpr = values[0]\n",
    "        tpr = values[1]\n",
    "        roc_auc = values[2]\n",
    "        plt.plot(fpr, \n",
    "                 tpr, \n",
    "                 label=\"{}, AUC={:.3f}\".format(name, roc_auc))\n",
    "\n",
    "    plt.plot([0,1], [0,1], color='orange', linestyle='--')\n",
    "\n",
    "    plt.xticks(np.arange(0.0, 1.1, step=0.1))\n",
    "    plt.xlabel(\"Flase Positive Rate\", fontsize=15)\n",
    "\n",
    "    plt.yticks(np.arange(0.0, 1.1, step=0.1))\n",
    "    plt.ylabel(\"True Positive Rate\", fontsize=15)\n",
    "\n",
    "    plt.title('ROC Curve Analysis', fontweight='bold', fontsize=15)\n",
    "    plt.legend(prop={'size':13}, loc='lower right')\n",
    "\n",
    "    plt.show()"
   ]
  },
  {
   "cell_type": "code",
   "execution_count": 5,
   "metadata": {},
   "outputs": [],
   "source": [
    "with open('text_embedding_dict.data', 'rb') as f:\n",
    "    text_embedding_dict = pickle.load(f)"
   ]
  },
  {
   "cell_type": "code",
   "execution_count": 6,
   "metadata": {},
   "outputs": [
    {
     "data": {
      "text/plain": [
       "3495"
      ]
     },
     "execution_count": 6,
     "metadata": {},
     "output_type": "execute_result"
    }
   ],
   "source": [
    "len(text_embedding_dict['vec_elmo_pb'][0])"
   ]
  },
  {
   "cell_type": "markdown",
   "metadata": {},
   "source": [
    "<a id='dl_glove'></a>\n",
    "* LSTM classifier with GloVe embedding<br>\n",
    "> \n",
    "> \n",
    "\n",
    "[back to table of contents](#toc)"
   ]
  },
  {
   "cell_type": "code",
   "execution_count": null,
   "metadata": {},
   "outputs": [],
   "source": []
  },
  {
   "cell_type": "markdown",
   "metadata": {},
   "source": [
    "<a id='dl_elmo'></a>\n",
    "* LSTM classifier with ELMo embedding\n",
    "> \n",
    "> \n",
    "\n",
    "[back to table of contents](#toc)"
   ]
  },
  {
   "cell_type": "code",
   "execution_count": null,
   "metadata": {},
   "outputs": [],
   "source": []
  },
  {
   "cell_type": "markdown",
   "metadata": {},
   "source": [
    "<a id='dl_ufit'></a>\n",
    "* ULFit classifier\n",
    "> \n",
    "> \n",
    "\n",
    "[back to table of contents](#toc)"
   ]
  },
  {
   "cell_type": "markdown",
   "metadata": {},
   "source": []
  },
  {
   "cell_type": "markdown",
   "metadata": {},
   "source": [
    "<a id='finbert'></a>\n",
    "* FinBERT \n",
    "> \n",
    "> \n",
    "\n",
    "[back to table of contents](#toc)"
   ]
  },
  {
   "cell_type": "markdown",
   "metadata": {},
   "source": []
  },
  {
   "cell_type": "markdown",
   "metadata": {},
   "source": []
  },
  {
   "cell_type": "markdown",
   "metadata": {},
   "source": []
  }
 ],
 "metadata": {
  "kernelspec": {
   "display_name": "tf1",
   "language": "python",
   "name": "tf1"
  },
  "language_info": {
   "codemirror_mode": {
    "name": "ipython",
    "version": 3
   },
   "file_extension": ".py",
   "mimetype": "text/x-python",
   "name": "python",
   "nbconvert_exporter": "python",
   "pygments_lexer": "ipython3",
   "version": "3.6.10"
  }
 },
 "nbformat": 4,
 "nbformat_minor": 4
}
