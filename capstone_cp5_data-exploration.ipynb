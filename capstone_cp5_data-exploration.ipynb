{
 "cells": [
  {
   "cell_type": "code",
   "execution_count": null,
   "metadata": {},
   "outputs": [],
   "source": [
    "# In this notebook, I'll leaverage the knowledge learned in cp5 to exploring my capstone project dataset.\n",
    "# since my dataset is from different sources, I'll explore the various datasets one by one. \n",
    "# only sample one file from those different dataset sources."
   ]
  },
  {
   "cell_type": "code",
   "execution_count": 200,
   "metadata": {},
   "outputs": [],
   "source": [
    "import pandas as pd\n",
    "import json\n",
    "import matplotlib.pyplot as plt\n",
    "import requests\n",
    "from bs4 import BeautifulSoup\n",
    "from datetime import datetime\n",
    "import xml.etree.ElementTree as ET"
   ]
  },
  {
   "cell_type": "code",
   "execution_count": 135,
   "metadata": {},
   "outputs": [],
   "source": [
    "# some local env\n",
    "# main dataset path\n",
    "data_parent_path = './data/'\n",
    "\n",
    "# ag_news\n",
    "data_agnews = data_parent_path + 'ag_news_csv/train.csv'\n",
    "\n",
    "# nyt article comments\n",
    "data_nytcomments = data_parent_path + 'nyt_comments/CommentsApril2017.csv'\n",
    "data_nytarticles = data_parent_path + 'nyt_comments/ArticlesApril2017.csv'\n",
    "\n",
    "# one_week_newsfeed\n",
    "data_oneweeknews = data_parent_path + 'one_week_newsfeeds/news-week-17aug24.csv'\n",
    "\n",
    "# sogou news\n",
    "data_sogou_news = data_parent_path + 'sogou_news_csv/train.csv'\n",
    "\n",
    "# reuters\n",
    "data_reuters = data_parent_path + 'reuters21578/reut2-000.sgm'\n",
    "\n",
    "# social medial news\n",
    "data_sns = data_parent_path + 'sns_dataset/News_Final.csv'\n",
    "\n",
    "# twitter, 1,600,000 \n",
    "data_tweets = data_parent_path + 'training.1600000.processed.noemoticon.csv'"
   ]
  },
  {
   "cell_type": "markdown",
   "metadata": {},
   "source": [
    "### 1 - ag_news:\n",
    "ag_news contains 120,000 rows, 3 columns, including classes, title, and content.\n",
    "every columns is well orgnized, without any missing data."
   ]
  },
  {
   "cell_type": "code",
   "execution_count": 32,
   "metadata": {},
   "outputs": [
    {
     "data": {
      "text/html": [
       "<div>\n",
       "<style scoped>\n",
       "    .dataframe tbody tr th:only-of-type {\n",
       "        vertical-align: middle;\n",
       "    }\n",
       "\n",
       "    .dataframe tbody tr th {\n",
       "        vertical-align: top;\n",
       "    }\n",
       "\n",
       "    .dataframe thead th {\n",
       "        text-align: right;\n",
       "    }\n",
       "</style>\n",
       "<table border=\"1\" class=\"dataframe\">\n",
       "  <thead>\n",
       "    <tr style=\"text-align: right;\">\n",
       "      <th></th>\n",
       "      <th>0</th>\n",
       "      <th>1</th>\n",
       "      <th>2</th>\n",
       "    </tr>\n",
       "  </thead>\n",
       "  <tbody>\n",
       "    <tr>\n",
       "      <td>0</td>\n",
       "      <td>3</td>\n",
       "      <td>Wall St. Bears Claw Back Into the Black (Reuters)</td>\n",
       "      <td>Reuters - Short-sellers, Wall Street's dwindli...</td>\n",
       "    </tr>\n",
       "    <tr>\n",
       "      <td>1</td>\n",
       "      <td>3</td>\n",
       "      <td>Carlyle Looks Toward Commercial Aerospace (Reu...</td>\n",
       "      <td>Reuters - Private investment firm Carlyle Grou...</td>\n",
       "    </tr>\n",
       "    <tr>\n",
       "      <td>2</td>\n",
       "      <td>3</td>\n",
       "      <td>Oil and Economy Cloud Stocks' Outlook (Reuters)</td>\n",
       "      <td>Reuters - Soaring crude prices plus worries\\ab...</td>\n",
       "    </tr>\n",
       "    <tr>\n",
       "      <td>3</td>\n",
       "      <td>3</td>\n",
       "      <td>Iraq Halts Oil Exports from Main Southern Pipe...</td>\n",
       "      <td>Reuters - Authorities have halted oil export\\f...</td>\n",
       "    </tr>\n",
       "    <tr>\n",
       "      <td>4</td>\n",
       "      <td>3</td>\n",
       "      <td>Oil prices soar to all-time record, posing new...</td>\n",
       "      <td>AFP - Tearaway world oil prices, toppling reco...</td>\n",
       "    </tr>\n",
       "  </tbody>\n",
       "</table>\n",
       "</div>"
      ],
      "text/plain": [
       "   0                                                  1  \\\n",
       "0  3  Wall St. Bears Claw Back Into the Black (Reuters)   \n",
       "1  3  Carlyle Looks Toward Commercial Aerospace (Reu...   \n",
       "2  3    Oil and Economy Cloud Stocks' Outlook (Reuters)   \n",
       "3  3  Iraq Halts Oil Exports from Main Southern Pipe...   \n",
       "4  3  Oil prices soar to all-time record, posing new...   \n",
       "\n",
       "                                                   2  \n",
       "0  Reuters - Short-sellers, Wall Street's dwindli...  \n",
       "1  Reuters - Private investment firm Carlyle Grou...  \n",
       "2  Reuters - Soaring crude prices plus worries\\ab...  \n",
       "3  Reuters - Authorities have halted oil export\\f...  \n",
       "4  AFP - Tearaway world oil prices, toppling reco...  "
      ]
     },
     "execution_count": 32,
     "metadata": {},
     "output_type": "execute_result"
    }
   ],
   "source": [
    "# ag_news\n",
    "ag_news_df = pd.read_csv(data_agnews, header=None)\n",
    "ag_news_df.head()"
   ]
  },
  {
   "cell_type": "code",
   "execution_count": 33,
   "metadata": {},
   "outputs": [
    {
     "data": {
      "text/plain": [
       "Int64Index([0, 1, 2], dtype='int64')"
      ]
     },
     "execution_count": 33,
     "metadata": {},
     "output_type": "execute_result"
    }
   ],
   "source": [
    "ag_news_df.columns"
   ]
  },
  {
   "cell_type": "code",
   "execution_count": 34,
   "metadata": {},
   "outputs": [],
   "source": [
    "ag_news_df.columns = ['category', 'title', 'content']"
   ]
  },
  {
   "cell_type": "code",
   "execution_count": 35,
   "metadata": {},
   "outputs": [
    {
     "data": {
      "text/html": [
       "<div>\n",
       "<style scoped>\n",
       "    .dataframe tbody tr th:only-of-type {\n",
       "        vertical-align: middle;\n",
       "    }\n",
       "\n",
       "    .dataframe tbody tr th {\n",
       "        vertical-align: top;\n",
       "    }\n",
       "\n",
       "    .dataframe thead th {\n",
       "        text-align: right;\n",
       "    }\n",
       "</style>\n",
       "<table border=\"1\" class=\"dataframe\">\n",
       "  <thead>\n",
       "    <tr style=\"text-align: right;\">\n",
       "      <th></th>\n",
       "      <th>category</th>\n",
       "      <th>title</th>\n",
       "      <th>content</th>\n",
       "    </tr>\n",
       "  </thead>\n",
       "  <tbody>\n",
       "    <tr>\n",
       "      <td>0</td>\n",
       "      <td>3</td>\n",
       "      <td>Wall St. Bears Claw Back Into the Black (Reuters)</td>\n",
       "      <td>Reuters - Short-sellers, Wall Street's dwindli...</td>\n",
       "    </tr>\n",
       "    <tr>\n",
       "      <td>1</td>\n",
       "      <td>3</td>\n",
       "      <td>Carlyle Looks Toward Commercial Aerospace (Reu...</td>\n",
       "      <td>Reuters - Private investment firm Carlyle Grou...</td>\n",
       "    </tr>\n",
       "    <tr>\n",
       "      <td>2</td>\n",
       "      <td>3</td>\n",
       "      <td>Oil and Economy Cloud Stocks' Outlook (Reuters)</td>\n",
       "      <td>Reuters - Soaring crude prices plus worries\\ab...</td>\n",
       "    </tr>\n",
       "    <tr>\n",
       "      <td>3</td>\n",
       "      <td>3</td>\n",
       "      <td>Iraq Halts Oil Exports from Main Southern Pipe...</td>\n",
       "      <td>Reuters - Authorities have halted oil export\\f...</td>\n",
       "    </tr>\n",
       "    <tr>\n",
       "      <td>4</td>\n",
       "      <td>3</td>\n",
       "      <td>Oil prices soar to all-time record, posing new...</td>\n",
       "      <td>AFP - Tearaway world oil prices, toppling reco...</td>\n",
       "    </tr>\n",
       "    <tr>\n",
       "      <td>5</td>\n",
       "      <td>3</td>\n",
       "      <td>Stocks End Up, But Near Year Lows (Reuters)</td>\n",
       "      <td>Reuters - Stocks ended slightly higher on Frid...</td>\n",
       "    </tr>\n",
       "    <tr>\n",
       "      <td>6</td>\n",
       "      <td>3</td>\n",
       "      <td>Money Funds Fell in Latest Week (AP)</td>\n",
       "      <td>AP - Assets of the nation's retail money marke...</td>\n",
       "    </tr>\n",
       "    <tr>\n",
       "      <td>7</td>\n",
       "      <td>3</td>\n",
       "      <td>Fed minutes show dissent over inflation (USATO...</td>\n",
       "      <td>USATODAY.com - Retail sales bounced back a bit...</td>\n",
       "    </tr>\n",
       "    <tr>\n",
       "      <td>8</td>\n",
       "      <td>3</td>\n",
       "      <td>Safety Net (Forbes.com)</td>\n",
       "      <td>Forbes.com - After earning a PH.D. in Sociolog...</td>\n",
       "    </tr>\n",
       "    <tr>\n",
       "      <td>9</td>\n",
       "      <td>3</td>\n",
       "      <td>Wall St. Bears Claw Back Into the Black</td>\n",
       "      <td>NEW YORK (Reuters) - Short-sellers, Wall Stre...</td>\n",
       "    </tr>\n",
       "  </tbody>\n",
       "</table>\n",
       "</div>"
      ],
      "text/plain": [
       "   category                                              title  \\\n",
       "0         3  Wall St. Bears Claw Back Into the Black (Reuters)   \n",
       "1         3  Carlyle Looks Toward Commercial Aerospace (Reu...   \n",
       "2         3    Oil and Economy Cloud Stocks' Outlook (Reuters)   \n",
       "3         3  Iraq Halts Oil Exports from Main Southern Pipe...   \n",
       "4         3  Oil prices soar to all-time record, posing new...   \n",
       "5         3        Stocks End Up, But Near Year Lows (Reuters)   \n",
       "6         3               Money Funds Fell in Latest Week (AP)   \n",
       "7         3  Fed minutes show dissent over inflation (USATO...   \n",
       "8         3                            Safety Net (Forbes.com)   \n",
       "9         3            Wall St. Bears Claw Back Into the Black   \n",
       "\n",
       "                                             content  \n",
       "0  Reuters - Short-sellers, Wall Street's dwindli...  \n",
       "1  Reuters - Private investment firm Carlyle Grou...  \n",
       "2  Reuters - Soaring crude prices plus worries\\ab...  \n",
       "3  Reuters - Authorities have halted oil export\\f...  \n",
       "4  AFP - Tearaway world oil prices, toppling reco...  \n",
       "5  Reuters - Stocks ended slightly higher on Frid...  \n",
       "6  AP - Assets of the nation's retail money marke...  \n",
       "7  USATODAY.com - Retail sales bounced back a bit...  \n",
       "8  Forbes.com - After earning a PH.D. in Sociolog...  \n",
       "9   NEW YORK (Reuters) - Short-sellers, Wall Stre...  "
      ]
     },
     "execution_count": 35,
     "metadata": {},
     "output_type": "execute_result"
    }
   ],
   "source": [
    "ag_news_df.head(10)"
   ]
  },
  {
   "cell_type": "code",
   "execution_count": 36,
   "metadata": {},
   "outputs": [
    {
     "data": {
      "text/html": [
       "<div>\n",
       "<style scoped>\n",
       "    .dataframe tbody tr th:only-of-type {\n",
       "        vertical-align: middle;\n",
       "    }\n",
       "\n",
       "    .dataframe tbody tr th {\n",
       "        vertical-align: top;\n",
       "    }\n",
       "\n",
       "    .dataframe thead th {\n",
       "        text-align: right;\n",
       "    }\n",
       "</style>\n",
       "<table border=\"1\" class=\"dataframe\">\n",
       "  <thead>\n",
       "    <tr style=\"text-align: right;\">\n",
       "      <th></th>\n",
       "      <th>category</th>\n",
       "      <th>title</th>\n",
       "      <th>content</th>\n",
       "    </tr>\n",
       "  </thead>\n",
       "  <tbody>\n",
       "    <tr>\n",
       "      <td>119995</td>\n",
       "      <td>1</td>\n",
       "      <td>Pakistan's Musharraf Says Won't Quit as Army C...</td>\n",
       "      <td>KARACHI (Reuters) - Pakistani President Perve...</td>\n",
       "    </tr>\n",
       "    <tr>\n",
       "      <td>119996</td>\n",
       "      <td>2</td>\n",
       "      <td>Renteria signing a top-shelf deal</td>\n",
       "      <td>Red Sox general manager Theo Epstein acknowled...</td>\n",
       "    </tr>\n",
       "    <tr>\n",
       "      <td>119997</td>\n",
       "      <td>2</td>\n",
       "      <td>Saban not going to Dolphins yet</td>\n",
       "      <td>The Miami Dolphins will put their courtship of...</td>\n",
       "    </tr>\n",
       "    <tr>\n",
       "      <td>119998</td>\n",
       "      <td>2</td>\n",
       "      <td>Today's NFL games</td>\n",
       "      <td>PITTSBURGH at NY GIANTS Time: 1:30 p.m. Line: ...</td>\n",
       "    </tr>\n",
       "    <tr>\n",
       "      <td>119999</td>\n",
       "      <td>2</td>\n",
       "      <td>Nets get Carter from Raptors</td>\n",
       "      <td>INDIANAPOLIS -- All-Star Vince Carter was trad...</td>\n",
       "    </tr>\n",
       "  </tbody>\n",
       "</table>\n",
       "</div>"
      ],
      "text/plain": [
       "        category                                              title  \\\n",
       "119995         1  Pakistan's Musharraf Says Won't Quit as Army C...   \n",
       "119996         2                  Renteria signing a top-shelf deal   \n",
       "119997         2                    Saban not going to Dolphins yet   \n",
       "119998         2                                  Today's NFL games   \n",
       "119999         2                       Nets get Carter from Raptors   \n",
       "\n",
       "                                                  content  \n",
       "119995   KARACHI (Reuters) - Pakistani President Perve...  \n",
       "119996  Red Sox general manager Theo Epstein acknowled...  \n",
       "119997  The Miami Dolphins will put their courtship of...  \n",
       "119998  PITTSBURGH at NY GIANTS Time: 1:30 p.m. Line: ...  \n",
       "119999  INDIANAPOLIS -- All-Star Vince Carter was trad...  "
      ]
     },
     "execution_count": 36,
     "metadata": {},
     "output_type": "execute_result"
    }
   ],
   "source": [
    "ag_news_df.tail()"
   ]
  },
  {
   "cell_type": "code",
   "execution_count": 37,
   "metadata": {},
   "outputs": [
    {
     "name": "stdout",
     "output_type": "stream",
     "text": [
      "<class 'pandas.core.frame.DataFrame'>\n",
      "RangeIndex: 120000 entries, 0 to 119999\n",
      "Data columns (total 3 columns):\n",
      "category    120000 non-null int64\n",
      "title       120000 non-null object\n",
      "content     120000 non-null object\n",
      "dtypes: int64(1), object(2)\n",
      "memory usage: 2.7+ MB\n"
     ]
    }
   ],
   "source": [
    "ag_news_df.info()"
   ]
  },
  {
   "cell_type": "code",
   "execution_count": 38,
   "metadata": {},
   "outputs": [
    {
     "data": {
      "text/html": [
       "<div>\n",
       "<style scoped>\n",
       "    .dataframe tbody tr th:only-of-type {\n",
       "        vertical-align: middle;\n",
       "    }\n",
       "\n",
       "    .dataframe tbody tr th {\n",
       "        vertical-align: top;\n",
       "    }\n",
       "\n",
       "    .dataframe thead th {\n",
       "        text-align: right;\n",
       "    }\n",
       "</style>\n",
       "<table border=\"1\" class=\"dataframe\">\n",
       "  <thead>\n",
       "    <tr style=\"text-align: right;\">\n",
       "      <th></th>\n",
       "      <th>category</th>\n",
       "    </tr>\n",
       "  </thead>\n",
       "  <tbody>\n",
       "    <tr>\n",
       "      <td>count</td>\n",
       "      <td>120000.000000</td>\n",
       "    </tr>\n",
       "    <tr>\n",
       "      <td>mean</td>\n",
       "      <td>2.500000</td>\n",
       "    </tr>\n",
       "    <tr>\n",
       "      <td>std</td>\n",
       "      <td>1.118039</td>\n",
       "    </tr>\n",
       "    <tr>\n",
       "      <td>min</td>\n",
       "      <td>1.000000</td>\n",
       "    </tr>\n",
       "    <tr>\n",
       "      <td>25%</td>\n",
       "      <td>1.750000</td>\n",
       "    </tr>\n",
       "    <tr>\n",
       "      <td>50%</td>\n",
       "      <td>2.500000</td>\n",
       "    </tr>\n",
       "    <tr>\n",
       "      <td>75%</td>\n",
       "      <td>3.250000</td>\n",
       "    </tr>\n",
       "    <tr>\n",
       "      <td>max</td>\n",
       "      <td>4.000000</td>\n",
       "    </tr>\n",
       "  </tbody>\n",
       "</table>\n",
       "</div>"
      ],
      "text/plain": [
       "            category\n",
       "count  120000.000000\n",
       "mean        2.500000\n",
       "std         1.118039\n",
       "min         1.000000\n",
       "25%         1.750000\n",
       "50%         2.500000\n",
       "75%         3.250000\n",
       "max         4.000000"
      ]
     },
     "execution_count": 38,
     "metadata": {},
     "output_type": "execute_result"
    }
   ],
   "source": [
    "ag_news_df.describe()"
   ]
  },
  {
   "cell_type": "code",
   "execution_count": 39,
   "metadata": {},
   "outputs": [
    {
     "data": {
      "text/plain": [
       "'Carlyle Looks Toward Commercial Aerospace (Reuters)'"
      ]
     },
     "execution_count": 39,
     "metadata": {},
     "output_type": "execute_result"
    }
   ],
   "source": [
    "ag_news_df.title.iloc[1]"
   ]
  },
  {
   "cell_type": "code",
   "execution_count": 40,
   "metadata": {},
   "outputs": [
    {
     "data": {
      "text/plain": [
       "'Reuters - Private investment firm Carlyle Group,\\\\which has a reputation for making well-timed and occasionally\\\\controversial plays in the defense industry, has quietly placed\\\\its bets on another part of the market.'"
      ]
     },
     "execution_count": 40,
     "metadata": {},
     "output_type": "execute_result"
    }
   ],
   "source": [
    "ag_news_df.content.iloc[1]"
   ]
  },
  {
   "cell_type": "markdown",
   "metadata": {},
   "source": [
    "### 2. nyt articles comments\n",
    "* there are two different csv, including nyt-articiles, nyt-comments\n",
    "* in nyt-articles, there are totale 16 columns and 886 rows in each csv files\n",
    "* in nyt-articles , unfortunately, there is no real article content, instead it provide a link to the real articles.\n",
    "* I define a function to extract real content from nyt website. It works\n",
    "\n",
    "* in comment csv, there are 243832 entries, total 34 columns\n",
    "* I can join these two table by using articleID, \n",
    "* commentBody is the comment column "
   ]
  },
  {
   "cell_type": "code",
   "execution_count": 41,
   "metadata": {},
   "outputs": [],
   "source": [
    "nyt_comments_df = pd.read_csv(data_nytcomments)\n",
    "nyt_articles_df = pd.read_csv(data_nytarticles)"
   ]
  },
  {
   "cell_type": "code",
   "execution_count": 42,
   "metadata": {},
   "outputs": [
    {
     "data": {
      "text/html": [
       "<div>\n",
       "<style scoped>\n",
       "    .dataframe tbody tr th:only-of-type {\n",
       "        vertical-align: middle;\n",
       "    }\n",
       "\n",
       "    .dataframe tbody tr th {\n",
       "        vertical-align: top;\n",
       "    }\n",
       "\n",
       "    .dataframe thead th {\n",
       "        text-align: right;\n",
       "    }\n",
       "</style>\n",
       "<table border=\"1\" class=\"dataframe\">\n",
       "  <thead>\n",
       "    <tr style=\"text-align: right;\">\n",
       "      <th></th>\n",
       "      <th>abstract</th>\n",
       "      <th>articleID</th>\n",
       "      <th>articleWordCount</th>\n",
       "      <th>byline</th>\n",
       "      <th>documentType</th>\n",
       "      <th>headline</th>\n",
       "      <th>keywords</th>\n",
       "      <th>multimedia</th>\n",
       "      <th>newDesk</th>\n",
       "      <th>printPage</th>\n",
       "      <th>pubDate</th>\n",
       "      <th>sectionName</th>\n",
       "      <th>snippet</th>\n",
       "      <th>source</th>\n",
       "      <th>typeOfMaterial</th>\n",
       "      <th>webURL</th>\n",
       "    </tr>\n",
       "  </thead>\n",
       "  <tbody>\n",
       "    <tr>\n",
       "      <td>0</td>\n",
       "      <td>NaN</td>\n",
       "      <td>58def1347c459f24986d7c80</td>\n",
       "      <td>716</td>\n",
       "      <td>By STEPHEN HILTNER and SUSAN LEHMAN</td>\n",
       "      <td>article</td>\n",
       "      <td>Finding an Expansive View  of a Forgotten Peop...</td>\n",
       "      <td>['Photography', 'New York Times', 'Niger', 'Fe...</td>\n",
       "      <td>3</td>\n",
       "      <td>Insider</td>\n",
       "      <td>2</td>\n",
       "      <td>2017-04-01 00:15:41</td>\n",
       "      <td>Unknown</td>\n",
       "      <td>One of the largest photo displays in Times his...</td>\n",
       "      <td>The New York Times</td>\n",
       "      <td>News</td>\n",
       "      <td>https://www.nytimes.com/2017/03/31/insider/nig...</td>\n",
       "    </tr>\n",
       "    <tr>\n",
       "      <td>1</td>\n",
       "      <td>NaN</td>\n",
       "      <td>58def3237c459f24986d7c84</td>\n",
       "      <td>823</td>\n",
       "      <td>By GAIL COLLINS</td>\n",
       "      <td>article</td>\n",
       "      <td>And Now,  the Dreaded Trump Curse</td>\n",
       "      <td>['United States Politics and Government', 'Tru...</td>\n",
       "      <td>3</td>\n",
       "      <td>OpEd</td>\n",
       "      <td>23</td>\n",
       "      <td>2017-04-01 00:23:58</td>\n",
       "      <td>Unknown</td>\n",
       "      <td>Meet the gang from under the bus.</td>\n",
       "      <td>The New York Times</td>\n",
       "      <td>Op-Ed</td>\n",
       "      <td>https://www.nytimes.com/2017/03/31/opinion/and...</td>\n",
       "    </tr>\n",
       "    <tr>\n",
       "      <td>2</td>\n",
       "      <td>NaN</td>\n",
       "      <td>58def9f57c459f24986d7c90</td>\n",
       "      <td>575</td>\n",
       "      <td>By THE EDITORIAL BOARD</td>\n",
       "      <td>article</td>\n",
       "      <td>Venezuela’s Descent Into Dictatorship</td>\n",
       "      <td>['Venezuela', 'Politics and Government', 'Madu...</td>\n",
       "      <td>3</td>\n",
       "      <td>Editorial</td>\n",
       "      <td>22</td>\n",
       "      <td>2017-04-01 00:53:06</td>\n",
       "      <td>Unknown</td>\n",
       "      <td>A court ruling annulling the legislature’s aut...</td>\n",
       "      <td>The New York Times</td>\n",
       "      <td>Editorial</td>\n",
       "      <td>https://www.nytimes.com/2017/03/31/opinion/ven...</td>\n",
       "    </tr>\n",
       "    <tr>\n",
       "      <td>3</td>\n",
       "      <td>NaN</td>\n",
       "      <td>58defd317c459f24986d7c95</td>\n",
       "      <td>1374</td>\n",
       "      <td>By MICHAEL POWELL</td>\n",
       "      <td>article</td>\n",
       "      <td>Stain Permeates Basketball Blue Blood</td>\n",
       "      <td>['Basketball (College)', 'University of North ...</td>\n",
       "      <td>3</td>\n",
       "      <td>Sports</td>\n",
       "      <td>1</td>\n",
       "      <td>2017-04-01 01:06:52</td>\n",
       "      <td>College Basketball</td>\n",
       "      <td>For two decades, until 2013, North Carolina en...</td>\n",
       "      <td>The New York Times</td>\n",
       "      <td>News</td>\n",
       "      <td>https://www.nytimes.com/2017/03/31/sports/ncaa...</td>\n",
       "    </tr>\n",
       "    <tr>\n",
       "      <td>4</td>\n",
       "      <td>NaN</td>\n",
       "      <td>58df09b77c459f24986d7ca7</td>\n",
       "      <td>708</td>\n",
       "      <td>By DEB AMLEN</td>\n",
       "      <td>article</td>\n",
       "      <td>Taking Things for Granted</td>\n",
       "      <td>['Crossword Puzzles']</td>\n",
       "      <td>3</td>\n",
       "      <td>Games</td>\n",
       "      <td>0</td>\n",
       "      <td>2017-04-01 02:00:14</td>\n",
       "      <td>Unknown</td>\n",
       "      <td>In which Howard Barkin and Will Shortz teach u...</td>\n",
       "      <td>The New York Times</td>\n",
       "      <td>News</td>\n",
       "      <td>https://www.nytimes.com/2017/03/31/crosswords/...</td>\n",
       "    </tr>\n",
       "  </tbody>\n",
       "</table>\n",
       "</div>"
      ],
      "text/plain": [
       "  abstract                 articleID  articleWordCount  \\\n",
       "0      NaN  58def1347c459f24986d7c80               716   \n",
       "1      NaN  58def3237c459f24986d7c84               823   \n",
       "2      NaN  58def9f57c459f24986d7c90               575   \n",
       "3      NaN  58defd317c459f24986d7c95              1374   \n",
       "4      NaN  58df09b77c459f24986d7ca7               708   \n",
       "\n",
       "                                byline documentType  \\\n",
       "0  By STEPHEN HILTNER and SUSAN LEHMAN      article   \n",
       "1                      By GAIL COLLINS      article   \n",
       "2               By THE EDITORIAL BOARD      article   \n",
       "3                    By MICHAEL POWELL      article   \n",
       "4                         By DEB AMLEN      article   \n",
       "\n",
       "                                            headline  \\\n",
       "0  Finding an Expansive View  of a Forgotten Peop...   \n",
       "1                  And Now,  the Dreaded Trump Curse   \n",
       "2              Venezuela’s Descent Into Dictatorship   \n",
       "3              Stain Permeates Basketball Blue Blood   \n",
       "4                          Taking Things for Granted   \n",
       "\n",
       "                                            keywords  multimedia    newDesk  \\\n",
       "0  ['Photography', 'New York Times', 'Niger', 'Fe...           3    Insider   \n",
       "1  ['United States Politics and Government', 'Tru...           3       OpEd   \n",
       "2  ['Venezuela', 'Politics and Government', 'Madu...           3  Editorial   \n",
       "3  ['Basketball (College)', 'University of North ...           3     Sports   \n",
       "4                              ['Crossword Puzzles']           3      Games   \n",
       "\n",
       "   printPage              pubDate         sectionName  \\\n",
       "0          2  2017-04-01 00:15:41             Unknown   \n",
       "1         23  2017-04-01 00:23:58             Unknown   \n",
       "2         22  2017-04-01 00:53:06             Unknown   \n",
       "3          1  2017-04-01 01:06:52  College Basketball   \n",
       "4          0  2017-04-01 02:00:14             Unknown   \n",
       "\n",
       "                                             snippet              source  \\\n",
       "0  One of the largest photo displays in Times his...  The New York Times   \n",
       "1                  Meet the gang from under the bus.  The New York Times   \n",
       "2  A court ruling annulling the legislature’s aut...  The New York Times   \n",
       "3  For two decades, until 2013, North Carolina en...  The New York Times   \n",
       "4  In which Howard Barkin and Will Shortz teach u...  The New York Times   \n",
       "\n",
       "  typeOfMaterial                                             webURL  \n",
       "0           News  https://www.nytimes.com/2017/03/31/insider/nig...  \n",
       "1          Op-Ed  https://www.nytimes.com/2017/03/31/opinion/and...  \n",
       "2      Editorial  https://www.nytimes.com/2017/03/31/opinion/ven...  \n",
       "3           News  https://www.nytimes.com/2017/03/31/sports/ncaa...  \n",
       "4           News  https://www.nytimes.com/2017/03/31/crosswords/...  "
      ]
     },
     "execution_count": 42,
     "metadata": {},
     "output_type": "execute_result"
    }
   ],
   "source": [
    "nyt_articles_df.head()"
   ]
  },
  {
   "cell_type": "code",
   "execution_count": 43,
   "metadata": {},
   "outputs": [
    {
     "data": {
      "text/plain": [
       "Index(['abstract', 'articleID', 'articleWordCount', 'byline', 'documentType',\n",
       "       'headline', 'keywords', 'multimedia', 'newDesk', 'printPage', 'pubDate',\n",
       "       'sectionName', 'snippet', 'source', 'typeOfMaterial', 'webURL'],\n",
       "      dtype='object')"
      ]
     },
     "execution_count": 43,
     "metadata": {},
     "output_type": "execute_result"
    }
   ],
   "source": [
    "nyt_articles_df.columns"
   ]
  },
  {
   "cell_type": "code",
   "execution_count": 44,
   "metadata": {},
   "outputs": [
    {
     "name": "stdout",
     "output_type": "stream",
     "text": [
      "<class 'pandas.core.frame.DataFrame'>\n",
      "RangeIndex: 886 entries, 0 to 885\n",
      "Data columns (total 16 columns):\n",
      "abstract            22 non-null object\n",
      "articleID           886 non-null object\n",
      "articleWordCount    886 non-null int64\n",
      "byline              886 non-null object\n",
      "documentType        886 non-null object\n",
      "headline            886 non-null object\n",
      "keywords            886 non-null object\n",
      "multimedia          886 non-null int64\n",
      "newDesk             886 non-null object\n",
      "printPage           886 non-null int64\n",
      "pubDate             886 non-null object\n",
      "sectionName         886 non-null object\n",
      "snippet             886 non-null object\n",
      "source              886 non-null object\n",
      "typeOfMaterial      886 non-null object\n",
      "webURL              886 non-null object\n",
      "dtypes: int64(3), object(13)\n",
      "memory usage: 110.9+ KB\n"
     ]
    }
   ],
   "source": [
    "nyt_articles_df.info()"
   ]
  },
  {
   "cell_type": "code",
   "execution_count": 45,
   "metadata": {},
   "outputs": [
    {
     "data": {
      "text/html": [
       "<div>\n",
       "<style scoped>\n",
       "    .dataframe tbody tr th:only-of-type {\n",
       "        vertical-align: middle;\n",
       "    }\n",
       "\n",
       "    .dataframe tbody tr th {\n",
       "        vertical-align: top;\n",
       "    }\n",
       "\n",
       "    .dataframe thead th {\n",
       "        text-align: right;\n",
       "    }\n",
       "</style>\n",
       "<table border=\"1\" class=\"dataframe\">\n",
       "  <thead>\n",
       "    <tr style=\"text-align: right;\">\n",
       "      <th></th>\n",
       "      <th>articleWordCount</th>\n",
       "      <th>multimedia</th>\n",
       "      <th>printPage</th>\n",
       "    </tr>\n",
       "  </thead>\n",
       "  <tbody>\n",
       "    <tr>\n",
       "      <td>count</td>\n",
       "      <td>886.000000</td>\n",
       "      <td>886.000000</td>\n",
       "      <td>886.000000</td>\n",
       "    </tr>\n",
       "    <tr>\n",
       "      <td>mean</td>\n",
       "      <td>1093.505643</td>\n",
       "      <td>3.857788</td>\n",
       "      <td>7.635440</td>\n",
       "    </tr>\n",
       "    <tr>\n",
       "      <td>std</td>\n",
       "      <td>799.095918</td>\n",
       "      <td>7.891072</td>\n",
       "      <td>10.809874</td>\n",
       "    </tr>\n",
       "    <tr>\n",
       "      <td>min</td>\n",
       "      <td>57.000000</td>\n",
       "      <td>0.000000</td>\n",
       "      <td>0.000000</td>\n",
       "    </tr>\n",
       "    <tr>\n",
       "      <td>25%</td>\n",
       "      <td>708.500000</td>\n",
       "      <td>3.000000</td>\n",
       "      <td>0.000000</td>\n",
       "    </tr>\n",
       "    <tr>\n",
       "      <td>50%</td>\n",
       "      <td>982.500000</td>\n",
       "      <td>3.000000</td>\n",
       "      <td>2.000000</td>\n",
       "    </tr>\n",
       "    <tr>\n",
       "      <td>75%</td>\n",
       "      <td>1291.750000</td>\n",
       "      <td>3.000000</td>\n",
       "      <td>13.000000</td>\n",
       "    </tr>\n",
       "    <tr>\n",
       "      <td>max</td>\n",
       "      <td>7832.000000</td>\n",
       "      <td>68.000000</td>\n",
       "      <td>74.000000</td>\n",
       "    </tr>\n",
       "  </tbody>\n",
       "</table>\n",
       "</div>"
      ],
      "text/plain": [
       "       articleWordCount  multimedia   printPage\n",
       "count        886.000000  886.000000  886.000000\n",
       "mean        1093.505643    3.857788    7.635440\n",
       "std          799.095918    7.891072   10.809874\n",
       "min           57.000000    0.000000    0.000000\n",
       "25%          708.500000    3.000000    0.000000\n",
       "50%          982.500000    3.000000    2.000000\n",
       "75%         1291.750000    3.000000   13.000000\n",
       "max         7832.000000   68.000000   74.000000"
      ]
     },
     "execution_count": 45,
     "metadata": {},
     "output_type": "execute_result"
    }
   ],
   "source": [
    "nyt_articles_df.describe()"
   ]
  },
  {
   "cell_type": "code",
   "execution_count": 76,
   "metadata": {},
   "outputs": [],
   "source": [
    "# since there is no real content, I have to extract it from the link.\n",
    "# I'll define a function, and apply webLink as the input para, and for a content column.\n",
    "\n",
    "def nyt_get_content(url):\n",
    "    r = requests.get(url)\n",
    "    soup = BeautifulSoup(r.text)\n",
    "\n",
    "    lst = []\n",
    "    for para in soup.select('.css-exrw3m'):\n",
    "        lst += para.text\n",
    "    return ''.join(lst)"
   ]
  },
  {
   "cell_type": "code",
   "execution_count": 88,
   "metadata": {},
   "outputs": [],
   "source": [
    "# it requires lot time to run the whole df\n",
    "# nyt_articles_df['content'] = nyt_articles_df.webURL.apply(nyt_get_content)\n",
    "test = nyt_articles_df.webURL.iloc[0:2].apply(nyt_get_content)"
   ]
  },
  {
   "cell_type": "code",
   "execution_count": 90,
   "metadata": {},
   "outputs": [
    {
     "name": "stdout",
     "output_type": "stream",
     "text": [
      "0    Adam Ferguson sensed the moment was right: “Ev...\n",
      "1    These days, the last thing you want is to be k...\n",
      "Name: webURL, dtype: object\n"
     ]
    }
   ],
   "source": [
    "print(test)"
   ]
  },
  {
   "cell_type": "code",
   "execution_count": 91,
   "metadata": {},
   "outputs": [
    {
     "name": "stdout",
     "output_type": "stream",
     "text": [
      "<class 'pandas.core.frame.DataFrame'>\n",
      "RangeIndex: 886 entries, 0 to 885\n",
      "Data columns (total 17 columns):\n",
      "abstract            22 non-null object\n",
      "articleID           886 non-null object\n",
      "articleWordCount    886 non-null int64\n",
      "byline              886 non-null object\n",
      "documentType        886 non-null object\n",
      "headline            886 non-null object\n",
      "keywords            886 non-null object\n",
      "multimedia          886 non-null int64\n",
      "newDesk             886 non-null object\n",
      "printPage           886 non-null int64\n",
      "pubDate             886 non-null object\n",
      "sectionName         886 non-null object\n",
      "snippet             886 non-null object\n",
      "source              886 non-null object\n",
      "typeOfMaterial      886 non-null object\n",
      "webURL              886 non-null object\n",
      "content             886 non-null object\n",
      "dtypes: int64(3), object(14)\n",
      "memory usage: 117.8+ KB\n"
     ]
    }
   ],
   "source": [
    "nyt_articles_df.info()"
   ]
  },
  {
   "cell_type": "code",
   "execution_count": 92,
   "metadata": {},
   "outputs": [
    {
     "data": {
      "text/html": [
       "<div>\n",
       "<style scoped>\n",
       "    .dataframe tbody tr th:only-of-type {\n",
       "        vertical-align: middle;\n",
       "    }\n",
       "\n",
       "    .dataframe tbody tr th {\n",
       "        vertical-align: top;\n",
       "    }\n",
       "\n",
       "    .dataframe thead th {\n",
       "        text-align: right;\n",
       "    }\n",
       "</style>\n",
       "<table border=\"1\" class=\"dataframe\">\n",
       "  <thead>\n",
       "    <tr style=\"text-align: right;\">\n",
       "      <th></th>\n",
       "      <th>approveDate</th>\n",
       "      <th>commentBody</th>\n",
       "      <th>commentID</th>\n",
       "      <th>commentSequence</th>\n",
       "      <th>commentTitle</th>\n",
       "      <th>commentType</th>\n",
       "      <th>createDate</th>\n",
       "      <th>depth</th>\n",
       "      <th>editorsSelection</th>\n",
       "      <th>parentID</th>\n",
       "      <th>...</th>\n",
       "      <th>userLocation</th>\n",
       "      <th>userTitle</th>\n",
       "      <th>userURL</th>\n",
       "      <th>inReplyTo</th>\n",
       "      <th>articleID</th>\n",
       "      <th>sectionName</th>\n",
       "      <th>newDesk</th>\n",
       "      <th>articleWordCount</th>\n",
       "      <th>printPage</th>\n",
       "      <th>typeOfMaterial</th>\n",
       "    </tr>\n",
       "  </thead>\n",
       "  <tbody>\n",
       "    <tr>\n",
       "      <td>0</td>\n",
       "      <td>1491245186</td>\n",
       "      <td>This project makes me happy to be a 30+ year T...</td>\n",
       "      <td>22022598.0</td>\n",
       "      <td>22022598</td>\n",
       "      <td>&lt;br/&gt;</td>\n",
       "      <td>comment</td>\n",
       "      <td>1.491237e+09</td>\n",
       "      <td>1</td>\n",
       "      <td>False</td>\n",
       "      <td>0.0</td>\n",
       "      <td>...</td>\n",
       "      <td>Riverside, CA</td>\n",
       "      <td>NaN</td>\n",
       "      <td>NaN</td>\n",
       "      <td>0</td>\n",
       "      <td>58def1347c459f24986d7c80</td>\n",
       "      <td>Unknown</td>\n",
       "      <td>Insider</td>\n",
       "      <td>716.0</td>\n",
       "      <td>2</td>\n",
       "      <td>News</td>\n",
       "    </tr>\n",
       "    <tr>\n",
       "      <td>1</td>\n",
       "      <td>1491188619</td>\n",
       "      <td>Stunning photos and reportage. Infuriating tha...</td>\n",
       "      <td>22017350.0</td>\n",
       "      <td>22017350</td>\n",
       "      <td>NaN</td>\n",
       "      <td>comment</td>\n",
       "      <td>1.491180e+09</td>\n",
       "      <td>1</td>\n",
       "      <td>False</td>\n",
       "      <td>0.0</td>\n",
       "      <td>...</td>\n",
       "      <td>&lt;br/&gt;</td>\n",
       "      <td>NaN</td>\n",
       "      <td>NaN</td>\n",
       "      <td>0</td>\n",
       "      <td>58def1347c459f24986d7c80</td>\n",
       "      <td>Unknown</td>\n",
       "      <td>Insider</td>\n",
       "      <td>716.0</td>\n",
       "      <td>2</td>\n",
       "      <td>News</td>\n",
       "    </tr>\n",
       "    <tr>\n",
       "      <td>2</td>\n",
       "      <td>1491188617</td>\n",
       "      <td>Brilliant work from conception to execution. I...</td>\n",
       "      <td>22017334.0</td>\n",
       "      <td>22017334</td>\n",
       "      <td>&lt;br/&gt;</td>\n",
       "      <td>comment</td>\n",
       "      <td>1.491179e+09</td>\n",
       "      <td>1</td>\n",
       "      <td>False</td>\n",
       "      <td>0.0</td>\n",
       "      <td>...</td>\n",
       "      <td>Raleigh NC</td>\n",
       "      <td>NaN</td>\n",
       "      <td>NaN</td>\n",
       "      <td>0</td>\n",
       "      <td>58def1347c459f24986d7c80</td>\n",
       "      <td>Unknown</td>\n",
       "      <td>Insider</td>\n",
       "      <td>716.0</td>\n",
       "      <td>2</td>\n",
       "      <td>News</td>\n",
       "    </tr>\n",
       "    <tr>\n",
       "      <td>3</td>\n",
       "      <td>1491167820</td>\n",
       "      <td>NYT reporters should provide a contributor's l...</td>\n",
       "      <td>22015913.0</td>\n",
       "      <td>22015913</td>\n",
       "      <td>&lt;br/&gt;</td>\n",
       "      <td>comment</td>\n",
       "      <td>1.491150e+09</td>\n",
       "      <td>1</td>\n",
       "      <td>False</td>\n",
       "      <td>0.0</td>\n",
       "      <td>...</td>\n",
       "      <td>Missouri, USA</td>\n",
       "      <td>NaN</td>\n",
       "      <td>NaN</td>\n",
       "      <td>0</td>\n",
       "      <td>58def1347c459f24986d7c80</td>\n",
       "      <td>Unknown</td>\n",
       "      <td>Insider</td>\n",
       "      <td>716.0</td>\n",
       "      <td>2</td>\n",
       "      <td>News</td>\n",
       "    </tr>\n",
       "    <tr>\n",
       "      <td>4</td>\n",
       "      <td>1491167815</td>\n",
       "      <td>Could only have been done in print. Stunning.</td>\n",
       "      <td>22015466.0</td>\n",
       "      <td>22015466</td>\n",
       "      <td>&lt;br/&gt;</td>\n",
       "      <td>comment</td>\n",
       "      <td>1.491147e+09</td>\n",
       "      <td>1</td>\n",
       "      <td>False</td>\n",
       "      <td>0.0</td>\n",
       "      <td>...</td>\n",
       "      <td>Tucson, Arizona</td>\n",
       "      <td>NaN</td>\n",
       "      <td>NaN</td>\n",
       "      <td>0</td>\n",
       "      <td>58def1347c459f24986d7c80</td>\n",
       "      <td>Unknown</td>\n",
       "      <td>Insider</td>\n",
       "      <td>716.0</td>\n",
       "      <td>2</td>\n",
       "      <td>News</td>\n",
       "    </tr>\n",
       "  </tbody>\n",
       "</table>\n",
       "<p>5 rows × 34 columns</p>\n",
       "</div>"
      ],
      "text/plain": [
       "   approveDate                                        commentBody   commentID  \\\n",
       "0   1491245186  This project makes me happy to be a 30+ year T...  22022598.0   \n",
       "1   1491188619  Stunning photos and reportage. Infuriating tha...  22017350.0   \n",
       "2   1491188617  Brilliant work from conception to execution. I...  22017334.0   \n",
       "3   1491167820  NYT reporters should provide a contributor's l...  22015913.0   \n",
       "4   1491167815     Could only have been done in print. Stunning.   22015466.0   \n",
       "\n",
       "   commentSequence commentTitle commentType    createDate  depth  \\\n",
       "0         22022598        <br/>     comment  1.491237e+09      1   \n",
       "1         22017350          NaN     comment  1.491180e+09      1   \n",
       "2         22017334        <br/>     comment  1.491179e+09      1   \n",
       "3         22015913        <br/>     comment  1.491150e+09      1   \n",
       "4         22015466        <br/>     comment  1.491147e+09      1   \n",
       "\n",
       "   editorsSelection  parentID  ...     userLocation userTitle userURL  \\\n",
       "0             False       0.0  ...    Riverside, CA       NaN     NaN   \n",
       "1             False       0.0  ...            <br/>       NaN     NaN   \n",
       "2             False       0.0  ...       Raleigh NC       NaN     NaN   \n",
       "3             False       0.0  ...    Missouri, USA       NaN     NaN   \n",
       "4             False       0.0  ...  Tucson, Arizona       NaN     NaN   \n",
       "\n",
       "   inReplyTo                 articleID  sectionName  newDesk  \\\n",
       "0          0  58def1347c459f24986d7c80      Unknown  Insider   \n",
       "1          0  58def1347c459f24986d7c80      Unknown  Insider   \n",
       "2          0  58def1347c459f24986d7c80      Unknown  Insider   \n",
       "3          0  58def1347c459f24986d7c80      Unknown  Insider   \n",
       "4          0  58def1347c459f24986d7c80      Unknown  Insider   \n",
       "\n",
       "   articleWordCount printPage  typeOfMaterial  \n",
       "0             716.0         2            News  \n",
       "1             716.0         2            News  \n",
       "2             716.0         2            News  \n",
       "3             716.0         2            News  \n",
       "4             716.0         2            News  \n",
       "\n",
       "[5 rows x 34 columns]"
      ]
     },
     "execution_count": 92,
     "metadata": {},
     "output_type": "execute_result"
    }
   ],
   "source": [
    "nyt_comments_df.head()"
   ]
  },
  {
   "cell_type": "code",
   "execution_count": 93,
   "metadata": {},
   "outputs": [
    {
     "data": {
      "text/html": [
       "<div>\n",
       "<style scoped>\n",
       "    .dataframe tbody tr th:only-of-type {\n",
       "        vertical-align: middle;\n",
       "    }\n",
       "\n",
       "    .dataframe tbody tr th {\n",
       "        vertical-align: top;\n",
       "    }\n",
       "\n",
       "    .dataframe thead th {\n",
       "        text-align: right;\n",
       "    }\n",
       "</style>\n",
       "<table border=\"1\" class=\"dataframe\">\n",
       "  <thead>\n",
       "    <tr style=\"text-align: right;\">\n",
       "      <th></th>\n",
       "      <th>approveDate</th>\n",
       "      <th>commentID</th>\n",
       "      <th>commentSequence</th>\n",
       "      <th>createDate</th>\n",
       "      <th>depth</th>\n",
       "      <th>parentID</th>\n",
       "      <th>recommendations</th>\n",
       "      <th>recommendedFlag</th>\n",
       "      <th>replyCount</th>\n",
       "      <th>reportAbuseFlag</th>\n",
       "      <th>sharing</th>\n",
       "      <th>timespeople</th>\n",
       "      <th>trusted</th>\n",
       "      <th>updateDate</th>\n",
       "      <th>userID</th>\n",
       "      <th>inReplyTo</th>\n",
       "      <th>articleWordCount</th>\n",
       "      <th>printPage</th>\n",
       "    </tr>\n",
       "  </thead>\n",
       "  <tbody>\n",
       "    <tr>\n",
       "      <td>count</td>\n",
       "      <td>2.438320e+05</td>\n",
       "      <td>2.438320e+05</td>\n",
       "      <td>2.438320e+05</td>\n",
       "      <td>2.438320e+05</td>\n",
       "      <td>243832.000000</td>\n",
       "      <td>2.438320e+05</td>\n",
       "      <td>243832.000000</td>\n",
       "      <td>0.0</td>\n",
       "      <td>243832.000000</td>\n",
       "      <td>0.0</td>\n",
       "      <td>243832.000000</td>\n",
       "      <td>243832.000000</td>\n",
       "      <td>243832.000000</td>\n",
       "      <td>2.438320e+05</td>\n",
       "      <td>2.438320e+05</td>\n",
       "      <td>2.438320e+05</td>\n",
       "      <td>243832.000000</td>\n",
       "      <td>243832.000000</td>\n",
       "    </tr>\n",
       "    <tr>\n",
       "      <td>mean</td>\n",
       "      <td>1.492504e+09</td>\n",
       "      <td>2.218861e+07</td>\n",
       "      <td>2.218861e+07</td>\n",
       "      <td>1.492495e+09</td>\n",
       "      <td>1.289425</td>\n",
       "      <td>6.416284e+06</td>\n",
       "      <td>17.625172</td>\n",
       "      <td>NaN</td>\n",
       "      <td>0.405734</td>\n",
       "      <td>NaN</td>\n",
       "      <td>0.086371</td>\n",
       "      <td>0.999643</td>\n",
       "      <td>0.033576</td>\n",
       "      <td>1.492506e+09</td>\n",
       "      <td>4.955750e+07</td>\n",
       "      <td>6.416194e+06</td>\n",
       "      <td>1293.667451</td>\n",
       "      <td>9.458652</td>\n",
       "    </tr>\n",
       "    <tr>\n",
       "      <td>std</td>\n",
       "      <td>1.330667e+06</td>\n",
       "      <td>1.855150e+05</td>\n",
       "      <td>1.855150e+05</td>\n",
       "      <td>1.328516e+06</td>\n",
       "      <td>0.453641</td>\n",
       "      <td>1.005529e+07</td>\n",
       "      <td>93.219419</td>\n",
       "      <td>NaN</td>\n",
       "      <td>1.944378</td>\n",
       "      <td>NaN</td>\n",
       "      <td>0.280912</td>\n",
       "      <td>0.018886</td>\n",
       "      <td>0.180136</td>\n",
       "      <td>1.330736e+06</td>\n",
       "      <td>2.338153e+07</td>\n",
       "      <td>1.005525e+07</td>\n",
       "      <td>946.593427</td>\n",
       "      <td>11.138473</td>\n",
       "    </tr>\n",
       "    <tr>\n",
       "      <td>min</td>\n",
       "      <td>1.491008e+09</td>\n",
       "      <td>2.199955e+07</td>\n",
       "      <td>2.199955e+07</td>\n",
       "      <td>1.491007e+09</td>\n",
       "      <td>1.000000</td>\n",
       "      <td>0.000000e+00</td>\n",
       "      <td>0.000000</td>\n",
       "      <td>NaN</td>\n",
       "      <td>-115.000000</td>\n",
       "      <td>NaN</td>\n",
       "      <td>0.000000</td>\n",
       "      <td>0.000000</td>\n",
       "      <td>0.000000</td>\n",
       "      <td>1.491009e+09</td>\n",
       "      <td>1.045000e+03</td>\n",
       "      <td>0.000000e+00</td>\n",
       "      <td>57.000000</td>\n",
       "      <td>0.000000</td>\n",
       "    </tr>\n",
       "    <tr>\n",
       "      <td>25%</td>\n",
       "      <td>1.491784e+09</td>\n",
       "      <td>2.209291e+07</td>\n",
       "      <td>2.209291e+07</td>\n",
       "      <td>1.491768e+09</td>\n",
       "      <td>1.000000</td>\n",
       "      <td>0.000000e+00</td>\n",
       "      <td>1.000000</td>\n",
       "      <td>NaN</td>\n",
       "      <td>0.000000</td>\n",
       "      <td>NaN</td>\n",
       "      <td>0.000000</td>\n",
       "      <td>1.000000</td>\n",
       "      <td>0.000000</td>\n",
       "      <td>1.491787e+09</td>\n",
       "      <td>3.219583e+07</td>\n",
       "      <td>0.000000e+00</td>\n",
       "      <td>828.000000</td>\n",
       "      <td>1.000000</td>\n",
       "    </tr>\n",
       "    <tr>\n",
       "      <td>50%</td>\n",
       "      <td>1.492437e+09</td>\n",
       "      <td>2.217668e+07</td>\n",
       "      <td>2.217668e+07</td>\n",
       "      <td>1.492428e+09</td>\n",
       "      <td>1.000000</td>\n",
       "      <td>0.000000e+00</td>\n",
       "      <td>3.000000</td>\n",
       "      <td>NaN</td>\n",
       "      <td>0.000000</td>\n",
       "      <td>NaN</td>\n",
       "      <td>0.000000</td>\n",
       "      <td>1.000000</td>\n",
       "      <td>0.000000</td>\n",
       "      <td>1.492437e+09</td>\n",
       "      <td>5.719876e+07</td>\n",
       "      <td>0.000000e+00</td>\n",
       "      <td>1124.000000</td>\n",
       "      <td>2.000000</td>\n",
       "    </tr>\n",
       "    <tr>\n",
       "      <td>75%</td>\n",
       "      <td>1.493120e+09</td>\n",
       "      <td>2.226047e+07</td>\n",
       "      <td>2.226047e+07</td>\n",
       "      <td>1.493087e+09</td>\n",
       "      <td>2.000000</td>\n",
       "      <td>2.205108e+07</td>\n",
       "      <td>9.000000</td>\n",
       "      <td>NaN</td>\n",
       "      <td>0.000000</td>\n",
       "      <td>NaN</td>\n",
       "      <td>0.000000</td>\n",
       "      <td>1.000000</td>\n",
       "      <td>0.000000</td>\n",
       "      <td>1.493122e+09</td>\n",
       "      <td>6.769995e+07</td>\n",
       "      <td>2.205108e+07</td>\n",
       "      <td>1385.000000</td>\n",
       "      <td>20.000000</td>\n",
       "    </tr>\n",
       "    <tr>\n",
       "      <td>max</td>\n",
       "      <td>1.524346e+09</td>\n",
       "      <td>2.682425e+07</td>\n",
       "      <td>2.682425e+07</td>\n",
       "      <td>1.524346e+09</td>\n",
       "      <td>3.000000</td>\n",
       "      <td>2.642620e+07</td>\n",
       "      <td>7938.000000</td>\n",
       "      <td>NaN</td>\n",
       "      <td>361.000000</td>\n",
       "      <td>NaN</td>\n",
       "      <td>1.000000</td>\n",
       "      <td>1.000000</td>\n",
       "      <td>1.000000</td>\n",
       "      <td>1.524346e+09</td>\n",
       "      <td>8.567808e+07</td>\n",
       "      <td>2.642620e+07</td>\n",
       "      <td>7832.000000</td>\n",
       "      <td>74.000000</td>\n",
       "    </tr>\n",
       "  </tbody>\n",
       "</table>\n",
       "</div>"
      ],
      "text/plain": [
       "        approveDate     commentID  commentSequence    createDate  \\\n",
       "count  2.438320e+05  2.438320e+05     2.438320e+05  2.438320e+05   \n",
       "mean   1.492504e+09  2.218861e+07     2.218861e+07  1.492495e+09   \n",
       "std    1.330667e+06  1.855150e+05     1.855150e+05  1.328516e+06   \n",
       "min    1.491008e+09  2.199955e+07     2.199955e+07  1.491007e+09   \n",
       "25%    1.491784e+09  2.209291e+07     2.209291e+07  1.491768e+09   \n",
       "50%    1.492437e+09  2.217668e+07     2.217668e+07  1.492428e+09   \n",
       "75%    1.493120e+09  2.226047e+07     2.226047e+07  1.493087e+09   \n",
       "max    1.524346e+09  2.682425e+07     2.682425e+07  1.524346e+09   \n",
       "\n",
       "               depth      parentID  recommendations  recommendedFlag  \\\n",
       "count  243832.000000  2.438320e+05    243832.000000              0.0   \n",
       "mean        1.289425  6.416284e+06        17.625172              NaN   \n",
       "std         0.453641  1.005529e+07        93.219419              NaN   \n",
       "min         1.000000  0.000000e+00         0.000000              NaN   \n",
       "25%         1.000000  0.000000e+00         1.000000              NaN   \n",
       "50%         1.000000  0.000000e+00         3.000000              NaN   \n",
       "75%         2.000000  2.205108e+07         9.000000              NaN   \n",
       "max         3.000000  2.642620e+07      7938.000000              NaN   \n",
       "\n",
       "          replyCount  reportAbuseFlag        sharing    timespeople  \\\n",
       "count  243832.000000              0.0  243832.000000  243832.000000   \n",
       "mean        0.405734              NaN       0.086371       0.999643   \n",
       "std         1.944378              NaN       0.280912       0.018886   \n",
       "min      -115.000000              NaN       0.000000       0.000000   \n",
       "25%         0.000000              NaN       0.000000       1.000000   \n",
       "50%         0.000000              NaN       0.000000       1.000000   \n",
       "75%         0.000000              NaN       0.000000       1.000000   \n",
       "max       361.000000              NaN       1.000000       1.000000   \n",
       "\n",
       "             trusted    updateDate        userID     inReplyTo  \\\n",
       "count  243832.000000  2.438320e+05  2.438320e+05  2.438320e+05   \n",
       "mean        0.033576  1.492506e+09  4.955750e+07  6.416194e+06   \n",
       "std         0.180136  1.330736e+06  2.338153e+07  1.005525e+07   \n",
       "min         0.000000  1.491009e+09  1.045000e+03  0.000000e+00   \n",
       "25%         0.000000  1.491787e+09  3.219583e+07  0.000000e+00   \n",
       "50%         0.000000  1.492437e+09  5.719876e+07  0.000000e+00   \n",
       "75%         0.000000  1.493122e+09  6.769995e+07  2.205108e+07   \n",
       "max         1.000000  1.524346e+09  8.567808e+07  2.642620e+07   \n",
       "\n",
       "       articleWordCount      printPage  \n",
       "count     243832.000000  243832.000000  \n",
       "mean        1293.667451       9.458652  \n",
       "std          946.593427      11.138473  \n",
       "min           57.000000       0.000000  \n",
       "25%          828.000000       1.000000  \n",
       "50%         1124.000000       2.000000  \n",
       "75%         1385.000000      20.000000  \n",
       "max         7832.000000      74.000000  "
      ]
     },
     "execution_count": 93,
     "metadata": {},
     "output_type": "execute_result"
    }
   ],
   "source": [
    "nyt_comments_df.describe()"
   ]
  },
  {
   "cell_type": "code",
   "execution_count": 94,
   "metadata": {},
   "outputs": [
    {
     "data": {
      "text/plain": [
       "Index(['approveDate', 'commentBody', 'commentID', 'commentSequence',\n",
       "       'commentTitle', 'commentType', 'createDate', 'depth',\n",
       "       'editorsSelection', 'parentID', 'parentUserDisplayName', 'permID',\n",
       "       'picURL', 'recommendations', 'recommendedFlag', 'replyCount',\n",
       "       'reportAbuseFlag', 'sharing', 'status', 'timespeople', 'trusted',\n",
       "       'updateDate', 'userDisplayName', 'userID', 'userLocation', 'userTitle',\n",
       "       'userURL', 'inReplyTo', 'articleID', 'sectionName', 'newDesk',\n",
       "       'articleWordCount', 'printPage', 'typeOfMaterial'],\n",
       "      dtype='object')"
      ]
     },
     "execution_count": 94,
     "metadata": {},
     "output_type": "execute_result"
    }
   ],
   "source": [
    "nyt_comments_df.columns"
   ]
  },
  {
   "cell_type": "code",
   "execution_count": 95,
   "metadata": {},
   "outputs": [
    {
     "name": "stdout",
     "output_type": "stream",
     "text": [
      "<class 'pandas.core.frame.DataFrame'>\n",
      "RangeIndex: 243832 entries, 0 to 243831\n",
      "Data columns (total 34 columns):\n",
      "approveDate              243832 non-null int64\n",
      "commentBody              243832 non-null object\n",
      "commentID                243832 non-null float64\n",
      "commentSequence          243832 non-null int64\n",
      "commentTitle             228498 non-null object\n",
      "commentType              243832 non-null object\n",
      "createDate               243832 non-null float64\n",
      "depth                    243832 non-null int64\n",
      "editorsSelection         243832 non-null bool\n",
      "parentID                 243832 non-null float64\n",
      "parentUserDisplayName    70527 non-null object\n",
      "permID                   243832 non-null object\n",
      "picURL                   243832 non-null object\n",
      "recommendations          243832 non-null float64\n",
      "recommendedFlag          0 non-null float64\n",
      "replyCount               243832 non-null float64\n",
      "reportAbuseFlag          0 non-null float64\n",
      "sharing                  243832 non-null int64\n",
      "status                   243832 non-null object\n",
      "timespeople              243832 non-null float64\n",
      "trusted                  243832 non-null float64\n",
      "updateDate               243832 non-null int64\n",
      "userDisplayName          243756 non-null object\n",
      "userID                   243832 non-null int64\n",
      "userLocation             243771 non-null object\n",
      "userTitle                41 non-null object\n",
      "userURL                  5 non-null object\n",
      "inReplyTo                243832 non-null int64\n",
      "articleID                243832 non-null object\n",
      "sectionName              243832 non-null object\n",
      "newDesk                  243832 non-null object\n",
      "articleWordCount         243832 non-null float64\n",
      "printPage                243832 non-null int64\n",
      "typeOfMaterial           243832 non-null object\n",
      "dtypes: bool(1), float64(10), int64(8), object(15)\n",
      "memory usage: 61.6+ MB\n"
     ]
    }
   ],
   "source": [
    "nyt_comments_df.info()"
   ]
  },
  {
   "cell_type": "code",
   "execution_count": 100,
   "metadata": {},
   "outputs": [
    {
     "name": "stdout",
     "output_type": "stream",
     "text": [
      "Brilliant work from conception to execution. I've never seen anything like it.  As a paper of record it is important to leave a record of these and other peoples for whom no one else speaks.  Please keep humanizing what are otherwise bland statistics.  It matters. Time and again their stories sounded like mine, could have been mine.  We're about to see hordes of people far away experiencing utter devastation.  Empathy goes away unless there are names and stories, and pictures.  Links to helping at organizations, resources....  \n"
     ]
    }
   ],
   "source": [
    "print(nyt_comments_df.commentBody.iloc[2])"
   ]
  },
  {
   "cell_type": "code",
   "execution_count": 101,
   "metadata": {},
   "outputs": [
    {
     "data": {
      "text/plain": [
       "'58def1347c459f24986d7c80'"
      ]
     },
     "execution_count": 101,
     "metadata": {},
     "output_type": "execute_result"
    }
   ],
   "source": [
    "nyt_comments_df.articleID.iloc[0]"
   ]
  },
  {
   "cell_type": "code",
   "execution_count": 102,
   "metadata": {},
   "outputs": [
    {
     "data": {
      "text/plain": [
       "'58def1347c459f24986d7c80'"
      ]
     },
     "execution_count": 102,
     "metadata": {},
     "output_type": "execute_result"
    }
   ],
   "source": [
    "nyt_articles_df.articleID.iloc[0]"
   ]
  },
  {
   "cell_type": "markdown",
   "metadata": {},
   "source": [
    "### 3 one_week_newsfeeds\n",
    "* I have two week csv, one is from 2017-Aug-24, another is 2018-Aug-24\n",
    "* In 2017-Aug-24 csv, there are 1398431 e ntries, \n",
    "* almost no missing data, except headline_text\n",
    "* But when I check the content, I find there is no content, instead of a source_url, I try to visit some of the url, I find that there are many news feeds in German, and some of them reveal 404 error code.\n",
    "* Also there are no special pattern for extracting the content.\n",
    "* I don't know how to use this data source."
   ]
  },
  {
   "cell_type": "code",
   "execution_count": 103,
   "metadata": {},
   "outputs": [],
   "source": [
    "data_oneweeknews_df = pd.read_csv(data_oneweeknews)"
   ]
  },
  {
   "cell_type": "code",
   "execution_count": 104,
   "metadata": {},
   "outputs": [
    {
     "name": "stdout",
     "output_type": "stream",
     "text": [
      "<class 'pandas.core.frame.DataFrame'>\n",
      "RangeIndex: 1398431 entries, 0 to 1398430\n",
      "Data columns (total 4 columns):\n",
      "publish_time     1398431 non-null int64\n",
      "feed_code        1398431 non-null object\n",
      "source_url       1398431 non-null object\n",
      "headline_text    1397447 non-null object\n",
      "dtypes: int64(1), object(3)\n",
      "memory usage: 42.7+ MB\n"
     ]
    }
   ],
   "source": [
    "data_oneweeknews_df.info()"
   ]
  },
  {
   "cell_type": "code",
   "execution_count": 105,
   "metadata": {},
   "outputs": [
    {
     "data": {
      "text/html": [
       "<div>\n",
       "<style scoped>\n",
       "    .dataframe tbody tr th:only-of-type {\n",
       "        vertical-align: middle;\n",
       "    }\n",
       "\n",
       "    .dataframe tbody tr th {\n",
       "        vertical-align: top;\n",
       "    }\n",
       "\n",
       "    .dataframe thead th {\n",
       "        text-align: right;\n",
       "    }\n",
       "</style>\n",
       "<table border=\"1\" class=\"dataframe\">\n",
       "  <thead>\n",
       "    <tr style=\"text-align: right;\">\n",
       "      <th></th>\n",
       "      <th>publish_time</th>\n",
       "      <th>feed_code</th>\n",
       "      <th>source_url</th>\n",
       "      <th>headline_text</th>\n",
       "    </tr>\n",
       "  </thead>\n",
       "  <tbody>\n",
       "    <tr>\n",
       "      <td>0</td>\n",
       "      <td>201708240000</td>\n",
       "      <td>w3-adweek</td>\n",
       "      <td>http://www.adweek.com/digital/facebook-2017-gl...</td>\n",
       "      <td>Here Are the Details on Facebook's Global Part...</td>\n",
       "    </tr>\n",
       "    <tr>\n",
       "      <td>1</td>\n",
       "      <td>201708240000</td>\n",
       "      <td>w3-aktiencheck-de</td>\n",
       "      <td>http://www.aktiencheck.de/news/Artikel-Aktien_...</td>\n",
       "      <td>Aktien New York Schluss: Moderate Verluste nac...</td>\n",
       "    </tr>\n",
       "    <tr>\n",
       "      <td>2</td>\n",
       "      <td>201708240000</td>\n",
       "      <td>w3-aktiencheck-de</td>\n",
       "      <td>http://www.aktiencheck.de/news/Artikel-US_Boer...</td>\n",
       "      <td>US-Börsen im Minus - Zittern vor Notenbankertr...</td>\n",
       "    </tr>\n",
       "    <tr>\n",
       "      <td>3</td>\n",
       "      <td>201708240000</td>\n",
       "      <td>w3-auto-economictimes-indiatimes</td>\n",
       "      <td>http://auto.economictimes.indiatimes.com/news/...</td>\n",
       "      <td>Petrol &amp; diesel on the rise post daily price r...</td>\n",
       "    </tr>\n",
       "    <tr>\n",
       "      <td>4</td>\n",
       "      <td>201708240000</td>\n",
       "      <td>w3-azdailysun</td>\n",
       "      <td>http://azdailysun.com/sports/football/could-de...</td>\n",
       "      <td>Could DeShone Kizer end Browns' history of QB ...</td>\n",
       "    </tr>\n",
       "  </tbody>\n",
       "</table>\n",
       "</div>"
      ],
      "text/plain": [
       "   publish_time                         feed_code  \\\n",
       "0  201708240000                         w3-adweek   \n",
       "1  201708240000                 w3-aktiencheck-de   \n",
       "2  201708240000                 w3-aktiencheck-de   \n",
       "3  201708240000  w3-auto-economictimes-indiatimes   \n",
       "4  201708240000                     w3-azdailysun   \n",
       "\n",
       "                                          source_url  \\\n",
       "0  http://www.adweek.com/digital/facebook-2017-gl...   \n",
       "1  http://www.aktiencheck.de/news/Artikel-Aktien_...   \n",
       "2  http://www.aktiencheck.de/news/Artikel-US_Boer...   \n",
       "3  http://auto.economictimes.indiatimes.com/news/...   \n",
       "4  http://azdailysun.com/sports/football/could-de...   \n",
       "\n",
       "                                       headline_text  \n",
       "0  Here Are the Details on Facebook's Global Part...  \n",
       "1  Aktien New York Schluss: Moderate Verluste nac...  \n",
       "2  US-Börsen im Minus - Zittern vor Notenbankertr...  \n",
       "3  Petrol & diesel on the rise post daily price r...  \n",
       "4  Could DeShone Kizer end Browns' history of QB ...  "
      ]
     },
     "execution_count": 105,
     "metadata": {},
     "output_type": "execute_result"
    }
   ],
   "source": [
    "data_oneweeknews_df.head()"
   ]
  },
  {
   "cell_type": "code",
   "execution_count": 106,
   "metadata": {},
   "outputs": [
    {
     "data": {
      "text/html": [
       "<div>\n",
       "<style scoped>\n",
       "    .dataframe tbody tr th:only-of-type {\n",
       "        vertical-align: middle;\n",
       "    }\n",
       "\n",
       "    .dataframe tbody tr th {\n",
       "        vertical-align: top;\n",
       "    }\n",
       "\n",
       "    .dataframe thead th {\n",
       "        text-align: right;\n",
       "    }\n",
       "</style>\n",
       "<table border=\"1\" class=\"dataframe\">\n",
       "  <thead>\n",
       "    <tr style=\"text-align: right;\">\n",
       "      <th></th>\n",
       "      <th>publish_time</th>\n",
       "    </tr>\n",
       "  </thead>\n",
       "  <tbody>\n",
       "    <tr>\n",
       "      <td>count</td>\n",
       "      <td>1.398431e+06</td>\n",
       "    </tr>\n",
       "    <tr>\n",
       "      <td>mean</td>\n",
       "      <td>2.017083e+11</td>\n",
       "    </tr>\n",
       "    <tr>\n",
       "      <td>std</td>\n",
       "      <td>2.092834e+04</td>\n",
       "    </tr>\n",
       "    <tr>\n",
       "      <td>min</td>\n",
       "      <td>2.017082e+11</td>\n",
       "    </tr>\n",
       "    <tr>\n",
       "      <td>25%</td>\n",
       "      <td>2.017083e+11</td>\n",
       "    </tr>\n",
       "    <tr>\n",
       "      <td>50%</td>\n",
       "      <td>2.017083e+11</td>\n",
       "    </tr>\n",
       "    <tr>\n",
       "      <td>75%</td>\n",
       "      <td>2.017083e+11</td>\n",
       "    </tr>\n",
       "    <tr>\n",
       "      <td>max</td>\n",
       "      <td>2.017083e+11</td>\n",
       "    </tr>\n",
       "  </tbody>\n",
       "</table>\n",
       "</div>"
      ],
      "text/plain": [
       "       publish_time\n",
       "count  1.398431e+06\n",
       "mean   2.017083e+11\n",
       "std    2.092834e+04\n",
       "min    2.017082e+11\n",
       "25%    2.017083e+11\n",
       "50%    2.017083e+11\n",
       "75%    2.017083e+11\n",
       "max    2.017083e+11"
      ]
     },
     "execution_count": 106,
     "metadata": {},
     "output_type": "execute_result"
    }
   ],
   "source": [
    "data_oneweeknews_df.describe()"
   ]
  },
  {
   "cell_type": "code",
   "execution_count": 113,
   "metadata": {},
   "outputs": [
    {
     "name": "stdout",
     "output_type": "stream",
     "text": [
      "['http://www.adweek.com/digital/facebook-2017-global-partner-summit/?utm_source=feedburner&utm_medium=feed&utm_campaign=Feed%253A%2Badweek%252Fthe-press%2B%2528Adweek%2BDigital%2529'\n",
      " 'http://www.aktiencheck.de/news/Artikel-Aktien_New_York_Schluss_Moderate_Verluste_kleiner_Vortagsrally-8076835'\n",
      " 'http://www.aktiencheck.de/news/Artikel-US_Boersen_Minus_Zittern_Notenbankertreffen-8076829'\n",
      " ...\n",
      " 'http://www.wxii12.com/article/company-recalls-natural-dish-soap-that-may-contain-bacteria/12140943'\n",
      " 'http://www.wz.de/lokales/duesseldorf/im-sommer-gerne-in-die-natur-an-nord-und-ostsee-1.2505628'\n",
      " 'http://www.ynet.co.il/articles/0%2C7340%2CL-5010000%2C00.html']\n"
     ]
    }
   ],
   "source": [
    "url = data_oneweeknews_df.source_url\n",
    "print(url.values)"
   ]
  },
  {
   "cell_type": "markdown",
   "metadata": {},
   "source": [
    "### 4 Sogou News\n",
    "* This dataset is really big, about 1.27G for train data. Having 449,999 entries\n",
    "* Using chinese Pinyin, how to use that?\n",
    "* No column name, I need to append it by myself.\n",
    "* Does this kind of dataset can be mixed with other language in training my model?"
   ]
  },
  {
   "cell_type": "code",
   "execution_count": 116,
   "metadata": {},
   "outputs": [],
   "source": [
    "data_sogou_news_df = pd.read_csv(data_sogou_news, header=None)"
   ]
  },
  {
   "cell_type": "code",
   "execution_count": 120,
   "metadata": {},
   "outputs": [],
   "source": [
    "data_sogou_news_df.columns = ['class', 'title', 'content']"
   ]
  },
  {
   "cell_type": "code",
   "execution_count": 121,
   "metadata": {},
   "outputs": [
    {
     "name": "stdout",
     "output_type": "stream",
     "text": [
      "<class 'pandas.core.frame.DataFrame'>\n",
      "RangeIndex: 450000 entries, 0 to 449999\n",
      "Data columns (total 3 columns):\n",
      "class      450000 non-null int64\n",
      "title      450000 non-null object\n",
      "content    450000 non-null object\n",
      "dtypes: int64(1), object(2)\n",
      "memory usage: 10.3+ MB\n"
     ]
    }
   ],
   "source": [
    "data_sogou_news_df.info()"
   ]
  },
  {
   "cell_type": "code",
   "execution_count": 122,
   "metadata": {},
   "outputs": [
    {
     "data": {
      "text/html": [
       "<div>\n",
       "<style scoped>\n",
       "    .dataframe tbody tr th:only-of-type {\n",
       "        vertical-align: middle;\n",
       "    }\n",
       "\n",
       "    .dataframe tbody tr th {\n",
       "        vertical-align: top;\n",
       "    }\n",
       "\n",
       "    .dataframe thead th {\n",
       "        text-align: right;\n",
       "    }\n",
       "</style>\n",
       "<table border=\"1\" class=\"dataframe\">\n",
       "  <thead>\n",
       "    <tr style=\"text-align: right;\">\n",
       "      <th></th>\n",
       "      <th>class</th>\n",
       "      <th>title</th>\n",
       "      <th>content</th>\n",
       "    </tr>\n",
       "  </thead>\n",
       "  <tbody>\n",
       "    <tr>\n",
       "      <td>0</td>\n",
       "      <td>4</td>\n",
       "      <td>2008 di4 qi1 jie4 qi1ng da3o guo2 ji4 che1 zha...</td>\n",
       "      <td>2008di4 qi1 jie4 qi1ng da3o guo2 ji4 che1 zha3...</td>\n",
       "    </tr>\n",
       "    <tr>\n",
       "      <td>1</td>\n",
       "      <td>4</td>\n",
       "      <td>zho1ng hua2 ju4n jie2 FRV ya4o shi</td>\n",
       "      <td>tu2 we2i zho1ng hua2 ju4n jie2 FRV ya4o shi .</td>\n",
       "    </tr>\n",
       "    <tr>\n",
       "      <td>2</td>\n",
       "      <td>3</td>\n",
       "      <td>ya2ng sho4u che2ng</td>\n",
       "      <td>/ 1 zha1ng \\n  wa3ng yi4 go1ng si1 ba3n qua2n ...</td>\n",
       "    </tr>\n",
       "    <tr>\n",
       "      <td>3</td>\n",
       "      <td>2</td>\n",
       "      <td>guo2 ta4i ju1n a1n : guo2 dia4n dia4n li4 ke3...</td>\n",
       "      <td>xi1n la4ng ti2 shi4 : be3n we2n shu3 yu2 ya2n ...</td>\n",
       "    </tr>\n",
       "    <tr>\n",
       "      <td>4</td>\n",
       "      <td>3</td>\n",
       "      <td>sho3u du1 yi1n le4 jia1 ci2 sha4n yi4 ya3n   ...</td>\n",
       "      <td>te2ng xu4n yi1n yue4 xu4n :2008 nia2n 5 yue4 1...</td>\n",
       "    </tr>\n",
       "  </tbody>\n",
       "</table>\n",
       "</div>"
      ],
      "text/plain": [
       "   class                                              title  \\\n",
       "0      4  2008 di4 qi1 jie4 qi1ng da3o guo2 ji4 che1 zha...   \n",
       "1      4                zho1ng hua2 ju4n jie2 FRV ya4o shi    \n",
       "2      3                                ya2ng sho4u che2ng    \n",
       "3      2   guo2 ta4i ju1n a1n : guo2 dia4n dia4n li4 ke3...   \n",
       "4      3   sho3u du1 yi1n le4 jia1 ci2 sha4n yi4 ya3n   ...   \n",
       "\n",
       "                                             content  \n",
       "0  2008di4 qi1 jie4 qi1ng da3o guo2 ji4 che1 zha3...  \n",
       "1      tu2 we2i zho1ng hua2 ju4n jie2 FRV ya4o shi .  \n",
       "2  / 1 zha1ng \\n  wa3ng yi4 go1ng si1 ba3n qua2n ...  \n",
       "3  xi1n la4ng ti2 shi4 : be3n we2n shu3 yu2 ya2n ...  \n",
       "4  te2ng xu4n yi1n yue4 xu4n :2008 nia2n 5 yue4 1...  "
      ]
     },
     "execution_count": 122,
     "metadata": {},
     "output_type": "execute_result"
    }
   ],
   "source": [
    "data_sogou_news_df.head()"
   ]
  },
  {
   "cell_type": "code",
   "execution_count": 123,
   "metadata": {},
   "outputs": [
    {
     "data": {
      "text/plain": [
       "'2008di4 qi1 jie4 qi1ng da3o guo2 ji4 che1 zha3n yu2 15 ri4 za4i qi1ng da3o guo2 ji4 hui4 zha3n zho1ng xi1n she4ng da4 ka1i mu4 . be3n ci4 che1 zha3n jia1ng chi2 xu4 da4o be3n yue4 19 ri4 . ji1n nia2n qi1ng da3o guo2 ji4 che1 zha3n shi4 li4 nia2n da3o che2ng che1 zha3n gui1 mo2 zui4 da4 di2 yi1 ci4 , shi3 yo4ng lia3o qi1ng da3o guo2 ji4 hui4 zha3n zho1ng xi1n di2 qua2n bu4 shi4 ne4i wa4i zha3n gua3n . yi3 xia4 we2i xia4n cha3ng mo2 te4 tu2 pia4n .'"
      ]
     },
     "execution_count": 123,
     "metadata": {},
     "output_type": "execute_result"
    }
   ],
   "source": [
    "data_sogou_news_df.content.iloc[0]"
   ]
  },
  {
   "cell_type": "code",
   "execution_count": 124,
   "metadata": {},
   "outputs": [
    {
     "data": {
      "text/plain": [
       "'2008 di4 qi1 jie4 qi1ng da3o guo2 ji4 che1 zha3n me3i nv3 mo2 te4 '"
      ]
     },
     "execution_count": 124,
     "metadata": {},
     "output_type": "execute_result"
    }
   ],
   "source": [
    "data_sogou_news_df.title.iloc[0]"
   ]
  },
  {
   "cell_type": "markdown",
   "metadata": {},
   "source": [
    "### 5 sns_ataset\n",
    "* total 93,239 rows.\n",
    "* news_final.csv contains the sns news content.\n",
    "* other csv files only contains SOCIAL FEEDBACK DATA"
   ]
  },
  {
   "cell_type": "code",
   "execution_count": 136,
   "metadata": {},
   "outputs": [],
   "source": [
    "data_sns_df = pd.read_csv(data_sns)"
   ]
  },
  {
   "cell_type": "code",
   "execution_count": 138,
   "metadata": {},
   "outputs": [
    {
     "data": {
      "text/html": [
       "<div>\n",
       "<style scoped>\n",
       "    .dataframe tbody tr th:only-of-type {\n",
       "        vertical-align: middle;\n",
       "    }\n",
       "\n",
       "    .dataframe tbody tr th {\n",
       "        vertical-align: top;\n",
       "    }\n",
       "\n",
       "    .dataframe thead th {\n",
       "        text-align: right;\n",
       "    }\n",
       "</style>\n",
       "<table border=\"1\" class=\"dataframe\">\n",
       "  <thead>\n",
       "    <tr style=\"text-align: right;\">\n",
       "      <th></th>\n",
       "      <th>IDLink</th>\n",
       "      <th>Title</th>\n",
       "      <th>Headline</th>\n",
       "      <th>Source</th>\n",
       "      <th>Topic</th>\n",
       "      <th>PublishDate</th>\n",
       "      <th>SentimentTitle</th>\n",
       "      <th>SentimentHeadline</th>\n",
       "      <th>Facebook</th>\n",
       "      <th>GooglePlus</th>\n",
       "      <th>LinkedIn</th>\n",
       "    </tr>\n",
       "  </thead>\n",
       "  <tbody>\n",
       "    <tr>\n",
       "      <td>0</td>\n",
       "      <td>99248.0</td>\n",
       "      <td>Obama Lays Wreath at Arlington National Cemetery</td>\n",
       "      <td>Obama Lays Wreath at Arlington National Cemete...</td>\n",
       "      <td>USA TODAY</td>\n",
       "      <td>obama</td>\n",
       "      <td>2002-04-02 00:00:00</td>\n",
       "      <td>0.000000</td>\n",
       "      <td>-0.053300</td>\n",
       "      <td>-1</td>\n",
       "      <td>-1</td>\n",
       "      <td>-1</td>\n",
       "    </tr>\n",
       "    <tr>\n",
       "      <td>1</td>\n",
       "      <td>10423.0</td>\n",
       "      <td>A Look at the Health of the Chinese Economy</td>\n",
       "      <td>Tim Haywood, investment director business-unit...</td>\n",
       "      <td>Bloomberg</td>\n",
       "      <td>economy</td>\n",
       "      <td>2008-09-20 00:00:00</td>\n",
       "      <td>0.208333</td>\n",
       "      <td>-0.156386</td>\n",
       "      <td>-1</td>\n",
       "      <td>-1</td>\n",
       "      <td>-1</td>\n",
       "    </tr>\n",
       "    <tr>\n",
       "      <td>2</td>\n",
       "      <td>18828.0</td>\n",
       "      <td>Nouriel Roubini: Global Economy Not Back to 2008</td>\n",
       "      <td>Nouriel Roubini, NYU professor and chairman at...</td>\n",
       "      <td>Bloomberg</td>\n",
       "      <td>economy</td>\n",
       "      <td>2012-01-28 00:00:00</td>\n",
       "      <td>-0.425210</td>\n",
       "      <td>0.139754</td>\n",
       "      <td>-1</td>\n",
       "      <td>-1</td>\n",
       "      <td>-1</td>\n",
       "    </tr>\n",
       "    <tr>\n",
       "      <td>3</td>\n",
       "      <td>27788.0</td>\n",
       "      <td>Finland GDP Expands In Q4</td>\n",
       "      <td>Finland's economy expanded marginally in the t...</td>\n",
       "      <td>RTT News</td>\n",
       "      <td>economy</td>\n",
       "      <td>2015-03-01 00:06:00</td>\n",
       "      <td>0.000000</td>\n",
       "      <td>0.026064</td>\n",
       "      <td>-1</td>\n",
       "      <td>-1</td>\n",
       "      <td>-1</td>\n",
       "    </tr>\n",
       "    <tr>\n",
       "      <td>4</td>\n",
       "      <td>27789.0</td>\n",
       "      <td>Tourism, govt spending buoys Thai economy in J...</td>\n",
       "      <td>Tourism and public spending continued to boost...</td>\n",
       "      <td>The Nation - Thailand&amp;#39;s English news</td>\n",
       "      <td>economy</td>\n",
       "      <td>2015-03-01 00:11:00</td>\n",
       "      <td>0.000000</td>\n",
       "      <td>0.141084</td>\n",
       "      <td>-1</td>\n",
       "      <td>-1</td>\n",
       "      <td>-1</td>\n",
       "    </tr>\n",
       "  </tbody>\n",
       "</table>\n",
       "</div>"
      ],
      "text/plain": [
       "    IDLink                                              Title  \\\n",
       "0  99248.0   Obama Lays Wreath at Arlington National Cemetery   \n",
       "1  10423.0        A Look at the Health of the Chinese Economy   \n",
       "2  18828.0   Nouriel Roubini: Global Economy Not Back to 2008   \n",
       "3  27788.0                          Finland GDP Expands In Q4   \n",
       "4  27789.0  Tourism, govt spending buoys Thai economy in J...   \n",
       "\n",
       "                                            Headline  \\\n",
       "0  Obama Lays Wreath at Arlington National Cemete...   \n",
       "1  Tim Haywood, investment director business-unit...   \n",
       "2  Nouriel Roubini, NYU professor and chairman at...   \n",
       "3  Finland's economy expanded marginally in the t...   \n",
       "4  Tourism and public spending continued to boost...   \n",
       "\n",
       "                                     Source    Topic          PublishDate  \\\n",
       "0                                 USA TODAY    obama  2002-04-02 00:00:00   \n",
       "1                                 Bloomberg  economy  2008-09-20 00:00:00   \n",
       "2                                 Bloomberg  economy  2012-01-28 00:00:00   \n",
       "3                                  RTT News  economy  2015-03-01 00:06:00   \n",
       "4  The Nation - Thailand&#39;s English news  economy  2015-03-01 00:11:00   \n",
       "\n",
       "   SentimentTitle  SentimentHeadline  Facebook  GooglePlus  LinkedIn  \n",
       "0        0.000000          -0.053300        -1          -1        -1  \n",
       "1        0.208333          -0.156386        -1          -1        -1  \n",
       "2       -0.425210           0.139754        -1          -1        -1  \n",
       "3        0.000000           0.026064        -1          -1        -1  \n",
       "4        0.000000           0.141084        -1          -1        -1  "
      ]
     },
     "execution_count": 138,
     "metadata": {},
     "output_type": "execute_result"
    }
   ],
   "source": [
    "data_sns_df.head()"
   ]
  },
  {
   "cell_type": "code",
   "execution_count": 140,
   "metadata": {},
   "outputs": [
    {
     "name": "stdout",
     "output_type": "stream",
     "text": [
      "<class 'pandas.core.frame.DataFrame'>\n",
      "RangeIndex: 93239 entries, 0 to 93238\n",
      "Data columns (total 11 columns):\n",
      "IDLink               93239 non-null float64\n",
      "Title                93239 non-null object\n",
      "Headline             93224 non-null object\n",
      "Source               92960 non-null object\n",
      "Topic                93239 non-null object\n",
      "PublishDate          93239 non-null object\n",
      "SentimentTitle       93239 non-null float64\n",
      "SentimentHeadline    93239 non-null float64\n",
      "Facebook             93239 non-null int64\n",
      "GooglePlus           93239 non-null int64\n",
      "LinkedIn             93239 non-null int64\n",
      "dtypes: float64(3), int64(3), object(5)\n",
      "memory usage: 7.8+ MB\n"
     ]
    }
   ],
   "source": [
    "data_sns_df.info()"
   ]
  },
  {
   "cell_type": "code",
   "execution_count": 141,
   "metadata": {},
   "outputs": [
    {
     "data": {
      "text/plain": [
       "Index(['IDLink', 'Title', 'Headline', 'Source', 'Topic', 'PublishDate',\n",
       "       'SentimentTitle', 'SentimentHeadline', 'Facebook', 'GooglePlus',\n",
       "       'LinkedIn'],\n",
       "      dtype='object')"
      ]
     },
     "execution_count": 141,
     "metadata": {},
     "output_type": "execute_result"
    }
   ],
   "source": [
    "data_sns_df.columns"
   ]
  },
  {
   "cell_type": "code",
   "execution_count": 145,
   "metadata": {},
   "outputs": [
    {
     "data": {
      "text/plain": [
       "\"Nouriel Roubini, NYU professor and chairman at Roubini Global Economics, explains why the global economy isn't facing the same conditions\""
      ]
     },
     "execution_count": 145,
     "metadata": {},
     "output_type": "execute_result"
    }
   ],
   "source": [
    "data_sns_df.Headline.iloc[2]"
   ]
  },
  {
   "cell_type": "code",
   "execution_count": 146,
   "metadata": {},
   "outputs": [
    {
     "data": {
      "text/plain": [
       "'Nouriel Roubini: Global Economy Not Back to 2008'"
      ]
     },
     "execution_count": 146,
     "metadata": {},
     "output_type": "execute_result"
    }
   ],
   "source": [
    "data_sns_df.Title.iloc[2]"
   ]
  },
  {
   "cell_type": "markdown",
   "metadata": {},
   "source": [
    "### 6 training.1600000.processed.noemoticon\n",
    "* total 1,600,000 rows, 6 columns\n",
    "* column-target, is the emotional classes (0 = negative, 2 = neutral, 4 = positive ), there are half of the datasets is negative, others are positive. No neutral seeds\n",
    "* dtaset is from 2009- Apirl, May, June"
   ]
  },
  {
   "cell_type": "code",
   "execution_count": 150,
   "metadata": {},
   "outputs": [],
   "source": [
    "data_tweets_df = pd.read_csv(data_tweets, encoding='ISO-8859-1', header=None)"
   ]
  },
  {
   "cell_type": "code",
   "execution_count": 152,
   "metadata": {},
   "outputs": [],
   "source": [
    "data_tweets_df.columns = ['target', 'ids', 'date', 'flag', 'user', 'text']"
   ]
  },
  {
   "cell_type": "code",
   "execution_count": 153,
   "metadata": {},
   "outputs": [
    {
     "data": {
      "text/html": [
       "<div>\n",
       "<style scoped>\n",
       "    .dataframe tbody tr th:only-of-type {\n",
       "        vertical-align: middle;\n",
       "    }\n",
       "\n",
       "    .dataframe tbody tr th {\n",
       "        vertical-align: top;\n",
       "    }\n",
       "\n",
       "    .dataframe thead th {\n",
       "        text-align: right;\n",
       "    }\n",
       "</style>\n",
       "<table border=\"1\" class=\"dataframe\">\n",
       "  <thead>\n",
       "    <tr style=\"text-align: right;\">\n",
       "      <th></th>\n",
       "      <th>target</th>\n",
       "      <th>ids</th>\n",
       "      <th>date</th>\n",
       "      <th>flag</th>\n",
       "      <th>user</th>\n",
       "      <th>text</th>\n",
       "    </tr>\n",
       "  </thead>\n",
       "  <tbody>\n",
       "    <tr>\n",
       "      <td>0</td>\n",
       "      <td>0</td>\n",
       "      <td>1467810369</td>\n",
       "      <td>Mon Apr 06 22:19:45 PDT 2009</td>\n",
       "      <td>NO_QUERY</td>\n",
       "      <td>_TheSpecialOne_</td>\n",
       "      <td>@switchfoot http://twitpic.com/2y1zl - Awww, t...</td>\n",
       "    </tr>\n",
       "    <tr>\n",
       "      <td>1</td>\n",
       "      <td>0</td>\n",
       "      <td>1467810672</td>\n",
       "      <td>Mon Apr 06 22:19:49 PDT 2009</td>\n",
       "      <td>NO_QUERY</td>\n",
       "      <td>scotthamilton</td>\n",
       "      <td>is upset that he can't update his Facebook by ...</td>\n",
       "    </tr>\n",
       "    <tr>\n",
       "      <td>2</td>\n",
       "      <td>0</td>\n",
       "      <td>1467810917</td>\n",
       "      <td>Mon Apr 06 22:19:53 PDT 2009</td>\n",
       "      <td>NO_QUERY</td>\n",
       "      <td>mattycus</td>\n",
       "      <td>@Kenichan I dived many times for the ball. Man...</td>\n",
       "    </tr>\n",
       "    <tr>\n",
       "      <td>3</td>\n",
       "      <td>0</td>\n",
       "      <td>1467811184</td>\n",
       "      <td>Mon Apr 06 22:19:57 PDT 2009</td>\n",
       "      <td>NO_QUERY</td>\n",
       "      <td>ElleCTF</td>\n",
       "      <td>my whole body feels itchy and like its on fire</td>\n",
       "    </tr>\n",
       "    <tr>\n",
       "      <td>4</td>\n",
       "      <td>0</td>\n",
       "      <td>1467811193</td>\n",
       "      <td>Mon Apr 06 22:19:57 PDT 2009</td>\n",
       "      <td>NO_QUERY</td>\n",
       "      <td>Karoli</td>\n",
       "      <td>@nationwideclass no, it's not behaving at all....</td>\n",
       "    </tr>\n",
       "  </tbody>\n",
       "</table>\n",
       "</div>"
      ],
      "text/plain": [
       "   target         ids                          date      flag  \\\n",
       "0       0  1467810369  Mon Apr 06 22:19:45 PDT 2009  NO_QUERY   \n",
       "1       0  1467810672  Mon Apr 06 22:19:49 PDT 2009  NO_QUERY   \n",
       "2       0  1467810917  Mon Apr 06 22:19:53 PDT 2009  NO_QUERY   \n",
       "3       0  1467811184  Mon Apr 06 22:19:57 PDT 2009  NO_QUERY   \n",
       "4       0  1467811193  Mon Apr 06 22:19:57 PDT 2009  NO_QUERY   \n",
       "\n",
       "              user                                               text  \n",
       "0  _TheSpecialOne_  @switchfoot http://twitpic.com/2y1zl - Awww, t...  \n",
       "1    scotthamilton  is upset that he can't update his Facebook by ...  \n",
       "2         mattycus  @Kenichan I dived many times for the ball. Man...  \n",
       "3          ElleCTF    my whole body feels itchy and like its on fire   \n",
       "4           Karoli  @nationwideclass no, it's not behaving at all....  "
      ]
     },
     "execution_count": 153,
     "metadata": {},
     "output_type": "execute_result"
    }
   ],
   "source": [
    "data_tweets_df.head()"
   ]
  },
  {
   "cell_type": "code",
   "execution_count": 154,
   "metadata": {},
   "outputs": [
    {
     "data": {
      "text/plain": [
       "4    800000\n",
       "0    800000\n",
       "Name: target, dtype: int64"
      ]
     },
     "execution_count": 154,
     "metadata": {},
     "output_type": "execute_result"
    }
   ],
   "source": [
    "data_tweets_df.target.value_counts()"
   ]
  },
  {
   "cell_type": "code",
   "execution_count": 155,
   "metadata": {},
   "outputs": [
    {
     "name": "stdout",
     "output_type": "stream",
     "text": [
      "<class 'pandas.core.frame.DataFrame'>\n",
      "RangeIndex: 1600000 entries, 0 to 1599999\n",
      "Data columns (total 6 columns):\n",
      "target    1600000 non-null int64\n",
      "ids       1600000 non-null int64\n",
      "date      1600000 non-null object\n",
      "flag      1600000 non-null object\n",
      "user      1600000 non-null object\n",
      "text      1600000 non-null object\n",
      "dtypes: int64(2), object(4)\n",
      "memory usage: 73.2+ MB\n"
     ]
    }
   ],
   "source": [
    "data_tweets_df.info()"
   ]
  },
  {
   "cell_type": "code",
   "execution_count": 156,
   "metadata": {},
   "outputs": [
    {
     "data": {
      "text/html": [
       "<div>\n",
       "<style scoped>\n",
       "    .dataframe tbody tr th:only-of-type {\n",
       "        vertical-align: middle;\n",
       "    }\n",
       "\n",
       "    .dataframe tbody tr th {\n",
       "        vertical-align: top;\n",
       "    }\n",
       "\n",
       "    .dataframe thead th {\n",
       "        text-align: right;\n",
       "    }\n",
       "</style>\n",
       "<table border=\"1\" class=\"dataframe\">\n",
       "  <thead>\n",
       "    <tr style=\"text-align: right;\">\n",
       "      <th></th>\n",
       "      <th>target</th>\n",
       "      <th>ids</th>\n",
       "      <th>date</th>\n",
       "      <th>flag</th>\n",
       "      <th>user</th>\n",
       "      <th>text</th>\n",
       "    </tr>\n",
       "  </thead>\n",
       "  <tbody>\n",
       "    <tr>\n",
       "      <td>1599995</td>\n",
       "      <td>4</td>\n",
       "      <td>2193601966</td>\n",
       "      <td>Tue Jun 16 08:40:49 PDT 2009</td>\n",
       "      <td>NO_QUERY</td>\n",
       "      <td>AmandaMarie1028</td>\n",
       "      <td>Just woke up. Having no school is the best fee...</td>\n",
       "    </tr>\n",
       "    <tr>\n",
       "      <td>1599996</td>\n",
       "      <td>4</td>\n",
       "      <td>2193601969</td>\n",
       "      <td>Tue Jun 16 08:40:49 PDT 2009</td>\n",
       "      <td>NO_QUERY</td>\n",
       "      <td>TheWDBoards</td>\n",
       "      <td>TheWDB.com - Very cool to hear old Walt interv...</td>\n",
       "    </tr>\n",
       "    <tr>\n",
       "      <td>1599997</td>\n",
       "      <td>4</td>\n",
       "      <td>2193601991</td>\n",
       "      <td>Tue Jun 16 08:40:49 PDT 2009</td>\n",
       "      <td>NO_QUERY</td>\n",
       "      <td>bpbabe</td>\n",
       "      <td>Are you ready for your MoJo Makeover? Ask me f...</td>\n",
       "    </tr>\n",
       "    <tr>\n",
       "      <td>1599998</td>\n",
       "      <td>4</td>\n",
       "      <td>2193602064</td>\n",
       "      <td>Tue Jun 16 08:40:49 PDT 2009</td>\n",
       "      <td>NO_QUERY</td>\n",
       "      <td>tinydiamondz</td>\n",
       "      <td>Happy 38th Birthday to my boo of alll time!!! ...</td>\n",
       "    </tr>\n",
       "    <tr>\n",
       "      <td>1599999</td>\n",
       "      <td>4</td>\n",
       "      <td>2193602129</td>\n",
       "      <td>Tue Jun 16 08:40:50 PDT 2009</td>\n",
       "      <td>NO_QUERY</td>\n",
       "      <td>RyanTrevMorris</td>\n",
       "      <td>happy #charitytuesday @theNSPCC @SparksCharity...</td>\n",
       "    </tr>\n",
       "  </tbody>\n",
       "</table>\n",
       "</div>"
      ],
      "text/plain": [
       "         target         ids                          date      flag  \\\n",
       "1599995       4  2193601966  Tue Jun 16 08:40:49 PDT 2009  NO_QUERY   \n",
       "1599996       4  2193601969  Tue Jun 16 08:40:49 PDT 2009  NO_QUERY   \n",
       "1599997       4  2193601991  Tue Jun 16 08:40:49 PDT 2009  NO_QUERY   \n",
       "1599998       4  2193602064  Tue Jun 16 08:40:49 PDT 2009  NO_QUERY   \n",
       "1599999       4  2193602129  Tue Jun 16 08:40:50 PDT 2009  NO_QUERY   \n",
       "\n",
       "                    user                                               text  \n",
       "1599995  AmandaMarie1028  Just woke up. Having no school is the best fee...  \n",
       "1599996      TheWDBoards  TheWDB.com - Very cool to hear old Walt interv...  \n",
       "1599997           bpbabe  Are you ready for your MoJo Makeover? Ask me f...  \n",
       "1599998     tinydiamondz  Happy 38th Birthday to my boo of alll time!!! ...  \n",
       "1599999   RyanTrevMorris  happy #charitytuesday @theNSPCC @SparksCharity...  "
      ]
     },
     "execution_count": 156,
     "metadata": {},
     "output_type": "execute_result"
    }
   ],
   "source": [
    "data_tweets_df.tail()"
   ]
  },
  {
   "cell_type": "code",
   "execution_count": 187,
   "metadata": {},
   "outputs": [],
   "source": [
    "month_map = {'Jan': '01', 'Feb': '02', 'Mar': '03', 'Apr': '04', 'May': '05', 'Jun': '06', \n",
    "             'Jul': '07', 'Aug': '08', 'Sep': '09', 'Oct': 10, 'Nov': 11, 'Dec': 12\n",
    "}\n",
    "\n",
    "def parse_clf_time(text):\n",
    "    m = month_map[text[4:7]]\n",
    "    d = text[8:10]\n",
    "    y = text[-4:]\n",
    "    hh = text[11:13]\n",
    "    mm = text[14:16]\n",
    "    ss = text[17:19]\n",
    "    time_str = '{0:s}-{1:s}-{2:s} {3:s}:{4:s}:{5:s}'.format(y, m, d, hh, mm, ss)\n",
    "    return datetime.strptime(time_str, '%Y-%m-%d %H:%M:%S')"
   ]
  },
  {
   "cell_type": "code",
   "execution_count": 188,
   "metadata": {},
   "outputs": [
    {
     "name": "stdout",
     "output_type": "stream",
     "text": [
      "2009-06-16 08:40:50\n"
     ]
    }
   ],
   "source": [
    "test = parse_clf_time('Tue Jun 16 08:40:50 PDT 2009')\n",
    "print(test)"
   ]
  },
  {
   "cell_type": "code",
   "execution_count": 193,
   "metadata": {},
   "outputs": [
    {
     "name": "stdout",
     "output_type": "stream",
     "text": [
      "<class 'pandas.core.frame.DataFrame'>\n",
      "RangeIndex: 1600000 entries, 0 to 1599999\n",
      "Data columns (total 7 columns):\n",
      "target       1600000 non-null int64\n",
      "ids          1600000 non-null int64\n",
      "date         1600000 non-null object\n",
      "flag         1600000 non-null object\n",
      "user         1600000 non-null object\n",
      "text         1600000 non-null object\n",
      "timestamp    1600000 non-null datetime64[ns]\n",
      "dtypes: datetime64[ns](1), int64(2), object(4)\n",
      "memory usage: 85.4+ MB\n"
     ]
    }
   ],
   "source": [
    "data_tweets_df['timestamp'] = (data_tweets_df.date.apply(parse_clf_time))\n",
    "data_tweets_df.info()"
   ]
  },
  {
   "cell_type": "code",
   "execution_count": 195,
   "metadata": {},
   "outputs": [
    {
     "data": {
      "text/plain": [
       "2009-06-06    111676\n",
       "2009-06-01    110290\n",
       "2009-06-15    109781\n",
       "2009-05-30    103673\n",
       "2009-06-07     96350\n",
       "2009-05-31     94588\n",
       "2009-05-29     73827\n",
       "2009-06-16     67980\n",
       "2009-06-02     64192\n",
       "2009-06-05     58757\n",
       "2009-06-20     45364\n",
       "2009-06-17     44012\n",
       "2009-06-19     43136\n",
       "2009-06-18     43004\n",
       "2009-06-03     41588\n",
       "2009-05-17     40154\n",
       "2009-05-22     39074\n",
       "2009-05-18     36469\n",
       "2009-05-03     35333\n",
       "2009-04-19     27469\n",
       "2009-05-02     27434\n",
       "2009-05-10     26029\n",
       "2009-04-18     21754\n",
       "2009-06-25     19694\n",
       "2009-04-20     18460\n",
       "2009-05-14     17460\n",
       "2009-04-07     17311\n",
       "2009-06-23     17002\n",
       "2009-06-21     16360\n",
       "2009-05-28     15903\n",
       "2009-05-04     15481\n",
       "2009-06-22     12009\n",
       "2009-05-09     11739\n",
       "2009-05-26     10778\n",
       "2009-05-16      9146\n",
       "2009-04-21      8587\n",
       "2009-06-14      8272\n",
       "2009-06-04      7842\n",
       "2009-05-01      7716\n",
       "2009-06-24      6299\n",
       "2009-05-11      4186\n",
       "2009-05-13      4066\n",
       "2009-04-06      3360\n",
       "2009-04-17      3084\n",
       "2009-05-21      2132\n",
       "2009-05-27       841\n",
       "2009-05-25       169\n",
       "2009-05-23       169\n",
       "Name: timestamp, dtype: int64"
      ]
     },
     "execution_count": 195,
     "metadata": {},
     "output_type": "execute_result"
    }
   ],
   "source": [
    "data_tweets_df.timestamp.apply(datetime.date).value_counts()"
   ]
  },
  {
   "cell_type": "markdown",
   "metadata": {},
   "source": [
    "### 7 reuters\n",
    "* "
   ]
  },
  {
   "cell_type": "code",
   "execution_count": 239,
   "metadata": {},
   "outputs": [
    {
     "data": {
      "text/html": [
       "<div>\n",
       "<style scoped>\n",
       "    .dataframe tbody tr th:only-of-type {\n",
       "        vertical-align: middle;\n",
       "    }\n",
       "\n",
       "    .dataframe tbody tr th {\n",
       "        vertical-align: top;\n",
       "    }\n",
       "\n",
       "    .dataframe thead th {\n",
       "        text-align: right;\n",
       "    }\n",
       "</style>\n",
       "<table border=\"1\" class=\"dataframe\">\n",
       "  <thead>\n",
       "    <tr style=\"text-align: right;\">\n",
       "      <th></th>\n",
       "      <th>title</th>\n",
       "      <th>date</th>\n",
       "      <th>content</th>\n",
       "    </tr>\n",
       "  </thead>\n",
       "  <tbody>\n",
       "    <tr>\n",
       "      <td>0</td>\n",
       "      <td>BAHIA COCOA REVIEW</td>\n",
       "      <td>SALVADOR, Feb 26 -</td>\n",
       "      <td>\\nBAHIA COCOA REVIEW\\n    SALVADOR, Feb 26 - S...</td>\n",
       "    </tr>\n",
       "    <tr>\n",
       "      <td>1</td>\n",
       "      <td>STANDARD OIL &lt;SRD&gt; TO FORM FINANCIAL UNIT</td>\n",
       "      <td>CLEVELAND, Feb 26 -</td>\n",
       "      <td>\\nSTANDARD OIL &lt;SRD&gt; TO FORM FINANCIAL UNIT\\n ...</td>\n",
       "    </tr>\n",
       "    <tr>\n",
       "      <td>2</td>\n",
       "      <td>TEXAS COMMERCE BANCSHARES &lt;TCB&gt; FILES PLAN</td>\n",
       "      <td>HOUSTON, Feb 26 -</td>\n",
       "      <td>\\nTEXAS COMMERCE BANCSHARES &lt;TCB&gt; FILES PLAN\\n...</td>\n",
       "    </tr>\n",
       "    <tr>\n",
       "      <td>3</td>\n",
       "      <td>TALKING POINT/BANKAMERICA &lt;BAC&gt; EQUITY OFFER</td>\n",
       "      <td>LOS ANGELES, Feb 26 -</td>\n",
       "      <td>\\nTALKING POINT/BANKAMERICA &lt;BAC&gt; EQUITY OFFER...</td>\n",
       "    </tr>\n",
       "    <tr>\n",
       "      <td>4</td>\n",
       "      <td>NATIONAL AVERAGE PRICES FOR FARMER-OWNED RESERVE</td>\n",
       "      <td>WASHINGTON, Feb 26 -</td>\n",
       "      <td>\\nNATIONAL AVERAGE PRICES FOR FARMER-OWNED RES...</td>\n",
       "    </tr>\n",
       "    <tr>\n",
       "      <td>...</td>\n",
       "      <td>...</td>\n",
       "      <td>...</td>\n",
       "      <td>...</td>\n",
       "    </tr>\n",
       "    <tr>\n",
       "      <td>995</td>\n",
       "      <td>ASHTON-TATE &lt;TATE&gt; TO OFFER COMMON SHARES</td>\n",
       "      <td>TORRANCE, Calif., March 3 -</td>\n",
       "      <td>\\nASHTON-TATE &lt;TATE&gt; TO OFFER COMMON SHARES\\n ...</td>\n",
       "    </tr>\n",
       "    <tr>\n",
       "      <td>996</td>\n",
       "      <td>KEYCORP &lt;KEY&gt; REGISTERS SUBORDINATED NOTES</td>\n",
       "      <td>ALBANY, N.Y., Marc 3 -</td>\n",
       "      <td>\\nKEYCORP &lt;KEY&gt; REGISTERS SUBORDINATED NOTES\\n...</td>\n",
       "    </tr>\n",
       "    <tr>\n",
       "      <td>997</td>\n",
       "      <td>&lt;NATIONAL SEA PRODUCTS LTD&gt; 4TH QTR NET</td>\n",
       "      <td>HALIFAX, Nova Scotia, March 3 -\\n</td>\n",
       "      <td>\\n&lt;NATIONAL SEA PRODUCTS LTD&gt; 4TH QTR NET\\n   ...</td>\n",
       "    </tr>\n",
       "    <tr>\n",
       "      <td>998</td>\n",
       "      <td>U.K. MONEY MARKET SHORTAGE FORECAST REVISED DOWN</td>\n",
       "      <td>LONDON, March 3 -</td>\n",
       "      <td>\\nU.K. MONEY MARKET SHORTAGE FORECAST REVISED ...</td>\n",
       "    </tr>\n",
       "    <tr>\n",
       "      <td>999</td>\n",
       "      <td>NATIONAL AMUSEMENTS AGAIN UPS VIACOM &lt;VIA&gt; BID</td>\n",
       "      <td>NEW YORK, March 3 -</td>\n",
       "      <td>\\nNATIONAL AMUSEMENTS AGAIN UPS VIACOM &lt;VIA&gt; B...</td>\n",
       "    </tr>\n",
       "  </tbody>\n",
       "</table>\n",
       "<p>1000 rows × 3 columns</p>\n",
       "</div>"
      ],
      "text/plain": [
       "                                                title  \\\n",
       "0                                  BAHIA COCOA REVIEW   \n",
       "1           STANDARD OIL <SRD> TO FORM FINANCIAL UNIT   \n",
       "2          TEXAS COMMERCE BANCSHARES <TCB> FILES PLAN   \n",
       "3        TALKING POINT/BANKAMERICA <BAC> EQUITY OFFER   \n",
       "4    NATIONAL AVERAGE PRICES FOR FARMER-OWNED RESERVE   \n",
       "..                                                ...   \n",
       "995         ASHTON-TATE <TATE> TO OFFER COMMON SHARES   \n",
       "996        KEYCORP <KEY> REGISTERS SUBORDINATED NOTES   \n",
       "997           <NATIONAL SEA PRODUCTS LTD> 4TH QTR NET   \n",
       "998  U.K. MONEY MARKET SHORTAGE FORECAST REVISED DOWN   \n",
       "999    NATIONAL AMUSEMENTS AGAIN UPS VIACOM <VIA> BID   \n",
       "\n",
       "                                          date  \\\n",
       "0                          SALVADOR, Feb 26 -    \n",
       "1                         CLEVELAND, Feb 26 -    \n",
       "2                           HOUSTON, Feb 26 -    \n",
       "3                       LOS ANGELES, Feb 26 -    \n",
       "4                        WASHINGTON, Feb 26 -    \n",
       "..                                         ...   \n",
       "995               TORRANCE, Calif., March 3 -    \n",
       "996                    ALBANY, N.Y., Marc 3 -    \n",
       "997      HALIFAX, Nova Scotia, March 3 -\\n       \n",
       "998                         LONDON, March 3 -    \n",
       "999                       NEW YORK, March 3 -    \n",
       "\n",
       "                                               content  \n",
       "0    \\nBAHIA COCOA REVIEW\\n    SALVADOR, Feb 26 - S...  \n",
       "1    \\nSTANDARD OIL <SRD> TO FORM FINANCIAL UNIT\\n ...  \n",
       "2    \\nTEXAS COMMERCE BANCSHARES <TCB> FILES PLAN\\n...  \n",
       "3    \\nTALKING POINT/BANKAMERICA <BAC> EQUITY OFFER...  \n",
       "4    \\nNATIONAL AVERAGE PRICES FOR FARMER-OWNED RES...  \n",
       "..                                                 ...  \n",
       "995  \\nASHTON-TATE <TATE> TO OFFER COMMON SHARES\\n ...  \n",
       "996  \\nKEYCORP <KEY> REGISTERS SUBORDINATED NOTES\\n...  \n",
       "997  \\n<NATIONAL SEA PRODUCTS LTD> 4TH QTR NET\\n   ...  \n",
       "998  \\nU.K. MONEY MARKET SHORTAGE FORECAST REVISED ...  \n",
       "999  \\nNATIONAL AMUSEMENTS AGAIN UPS VIACOM <VIA> B...  \n",
       "\n",
       "[1000 rows x 3 columns]"
      ]
     },
     "execution_count": 239,
     "metadata": {},
     "output_type": "execute_result"
    }
   ],
   "source": [
    "lst = []\n",
    "\n",
    "with open(data_reuters, 'r') as reuter_file:\n",
    "    lines = reuter_file.read()\n",
    "    xml = BeautifulSoup(lines)\n",
    "    bodys = xml.findAll('text')\n",
    "\n",
    "    for body in bodys:\n",
    "        title = body.find('title').text if body.find('title') else ''\n",
    "        date = body.find('dateline').text if body.find('dateline') else ''\n",
    "        text = body.text\n",
    "        lst.append([title, date, text])\n",
    "\n",
    "data_reuters_df = pd.DataFrame(lst, columns=['title', 'date', 'content'])\n",
    "data_reuters_df\n"
   ]
  },
  {
   "cell_type": "code",
   "execution_count": 240,
   "metadata": {},
   "outputs": [
    {
     "name": "stdout",
     "output_type": "stream",
     "text": [
      "<class 'pandas.core.frame.DataFrame'>\n",
      "RangeIndex: 1000 entries, 0 to 999\n",
      "Data columns (total 3 columns):\n",
      "title      1000 non-null object\n",
      "date       1000 non-null object\n",
      "content    1000 non-null object\n",
      "dtypes: object(3)\n",
      "memory usage: 23.6+ KB\n"
     ]
    }
   ],
   "source": [
    "data_reuters_df.info()"
   ]
  },
  {
   "cell_type": "code",
   "execution_count": null,
   "metadata": {},
   "outputs": [],
   "source": []
  }
 ],
 "metadata": {
  "kernelspec": {
   "display_name": "Python 3",
   "language": "python",
   "name": "python3"
  },
  "language_info": {
   "codemirror_mode": {
    "name": "ipython",
    "version": 3
   },
   "file_extension": ".py",
   "mimetype": "text/x-python",
   "name": "python",
   "nbconvert_exporter": "python",
   "pygments_lexer": "ipython3",
   "version": "3.7.3"
  }
 },
 "nbformat": 4,
 "nbformat_minor": 2
}
